{
 "cells": [
  {
   "cell_type": "code",
   "execution_count": 2,
   "metadata": {},
   "outputs": [],
   "source": [
    "import fastbook\n",
    "fastbook.setup_book()"
   ]
  },
  {
   "cell_type": "code",
   "execution_count": 4,
   "metadata": {},
   "outputs": [],
   "source": [
    "from fastai.vision.all import *\n",
    "from fastbook import *"
   ]
  },
  {
   "cell_type": "code",
   "execution_count": 5,
   "metadata": {},
   "outputs": [
    {
     "data": {
      "text/html": [
       "\n",
       "<style>\n",
       "    /* Turns off some styling */\n",
       "    progress {\n",
       "        /* gets rid of default border in Firefox and Opera. */\n",
       "        border: none;\n",
       "        /* Needs to be in here for Safari polyfill so background images work as expected. */\n",
       "        background-size: auto;\n",
       "    }\n",
       "    progress:not([value]), progress:not([value])::-webkit-progress-bar {\n",
       "        background: repeating-linear-gradient(45deg, #7e7e7e, #7e7e7e 10px, #5c5c5c 10px, #5c5c5c 20px);\n",
       "    }\n",
       "    .progress-bar-interrupted, .progress-bar-interrupted::-webkit-progress-bar {\n",
       "        background: #F44336;\n",
       "    }\n",
       "</style>\n"
      ],
      "text/plain": [
       "<IPython.core.display.HTML object>"
      ]
     },
     "metadata": {},
     "output_type": "display_data"
    },
    {
     "data": {
      "text/html": [
       "\n",
       "    <div>\n",
       "      <progress value='3219456' class='' max='3214948' style='width:300px; height:20px; vertical-align: middle;'></progress>\n",
       "      100.14% [3219456/3214948 00:00&lt;00:00]\n",
       "    </div>\n",
       "    "
      ],
      "text/plain": [
       "<IPython.core.display.HTML object>"
      ]
     },
     "metadata": {},
     "output_type": "display_data"
    }
   ],
   "source": [
    "# Access MNIST dataset from fastai\n",
    "path = untar_data(URLs.MNIST_SAMPLE)"
   ]
  },
  {
   "cell_type": "code",
   "execution_count": 6,
   "metadata": {},
   "outputs": [],
   "source": [
    "Path.BASE_PATH = path"
   ]
  },
  {
   "cell_type": "code",
   "execution_count": 8,
   "metadata": {},
   "outputs": [
    {
     "data": {
      "text/plain": [
       "(#3) [Path('train'),Path('valid'),Path('labels.csv')]"
      ]
     },
     "execution_count": 8,
     "metadata": {},
     "output_type": "execute_result"
    }
   ],
   "source": [
    "# See the directory contents for the MNIST dataset\n",
    "path.ls()"
   ]
  },
  {
   "cell_type": "code",
   "execution_count": 9,
   "metadata": {},
   "outputs": [
    {
     "data": {
      "text/plain": [
       "(#2) [Path('train/3'),Path('train/7')]"
      ]
     },
     "execution_count": 9,
     "metadata": {},
     "output_type": "execute_result"
    }
   ],
   "source": [
    "# See the contents of our train folder - '3' and '7' will be our labels\n",
    "(path/'train').ls()"
   ]
  },
  {
   "cell_type": "code",
   "execution_count": 10,
   "metadata": {},
   "outputs": [
    {
     "data": {
      "text/plain": [
       "(#6131) [Path('train/3/10.png'),Path('train/3/10000.png'),Path('train/3/10011.png'),Path('train/3/10031.png'),Path('train/3/10034.png'),Path('train/3/10042.png'),Path('train/3/10052.png'),Path('train/3/1007.png'),Path('train/3/10074.png'),Path('train/3/10091.png')...]"
      ]
     },
     "execution_count": 10,
     "metadata": {},
     "output_type": "execute_result"
    }
   ],
   "source": [
    "threes = (path/'train'/'3').ls().sorted()\n",
    "sevens = (path/'train'/'7').ls().sorted()\n",
    "\n",
    "threes"
   ]
  },
  {
   "cell_type": "code",
   "execution_count": 14,
   "metadata": {},
   "outputs": [
    {
     "data": {
      "image/jpeg": "[encoded data removed]",
      "image/png": "[encoded data removed]",
      "text/plain": [
       "<PIL.PngImagePlugin.PngImageFile image mode=L size=28x28>"
      ]
     },
     "execution_count": 14,
     "metadata": {},
     "output_type": "execute_result"
    }
   ],
   "source": [
    "# Use Image class from Python Imaging Library (PIL) to open a sample image of 3\n",
    "im_3_path = threes[1]\n",
    "im_3 = Image.open(im_3_path)\n",
    "im_3"
   ]
  },
  {
   "cell_type": "markdown",
   "metadata": {},
   "source": [
    "To see the numbers that make up this image - we need to cover it to either a *NumPy Array* or a *PyTorch Tensor*.\n",
    "\n",
    "The `4:10` in the code below represents that we request the rows/columns from index 4 (**inclusive**) to index 10 (**not inclusive**). So this is basically showing the top-left corner of the image since the indices work from top-to-bottom and left-to-right."
   ]
  },
  {
   "cell_type": "code",
   "execution_count": 15,
   "metadata": {},
   "outputs": [
    {
     "data": {
      "text/plain": [
       "array([[  0,   0,   0,   0,   0,   0],\n",
       "       [  0,   0,   0,   0,   0,  29],\n",
       "       [  0,   0,   0,  48, 166, 224],\n",
       "       [  0,  93, 244, 249, 253, 187],\n",
       "       [  0, 107, 253, 253, 230,  48],\n",
       "       [  0,   3,  20,  20,  15,   0]], dtype=uint8)"
      ]
     },
     "execution_count": 15,
     "metadata": {},
     "output_type": "execute_result"
    }
   ],
   "source": [
    "# NumPy Array\n",
    "array(im_3)[4:10, 4:10]"
   ]
  },
  {
   "cell_type": "code",
   "execution_count": 16,
   "metadata": {},
   "outputs": [
    {
     "data": {
      "text/plain": [
       "tensor([[  0,   0,   0,   0,   0,   0],\n",
       "        [  0,   0,   0,   0,   0,  29],\n",
       "        [  0,   0,   0,  48, 166, 224],\n",
       "        [  0,  93, 244, 249, 253, 187],\n",
       "        [  0, 107, 253, 253, 230,  48],\n",
       "        [  0,   3,  20,  20,  15,   0]], dtype=torch.uint8)"
      ]
     },
     "execution_count": 16,
     "metadata": {},
     "output_type": "execute_result"
    }
   ],
   "source": [
    "# PyTorch Tensor\n",
    "tensor(im_3)[4:10, 4:10]"
   ]
  },
  {
   "cell_type": "markdown",
   "metadata": {},
   "source": [
    "We can now take a look at a larger section of the image and see how these values help represent the number 3.\n",
    "\n",
    "A few things to note is that this image is 28 x 28 - meaning it has 784 pixels in total. Each pixel has a value from 0-255, where 0 is white and 255 is black. Anything in between is some type of gray."
   ]
  },
  {
   "cell_type": "code",
   "execution_count": 17,
   "metadata": {},
   "outputs": [
    {
     "data": {
      "text/html": [
       "<style type=\"text/css\">\n",
       "#T_8fa56_row0_col0, #T_8fa56_row0_col1, #T_8fa56_row0_col2, #T_8fa56_row0_col3, #T_8fa56_row0_col4, #T_8fa56_row0_col5, #T_8fa56_row0_col6, #T_8fa56_row0_col7, #T_8fa56_row0_col8, #T_8fa56_row0_col9, #T_8fa56_row0_col10, #T_8fa56_row0_col11, #T_8fa56_row0_col12, #T_8fa56_row0_col13, #T_8fa56_row0_col14, #T_8fa56_row0_col15, #T_8fa56_row0_col16, #T_8fa56_row0_col17, #T_8fa56_row1_col0, #T_8fa56_row1_col1, #T_8fa56_row1_col2, #T_8fa56_row1_col3, #T_8fa56_row1_col4, #T_8fa56_row1_col15, #T_8fa56_row1_col16, #T_8fa56_row1_col17, #T_8fa56_row2_col0, #T_8fa56_row2_col1, #T_8fa56_row2_col2, #T_8fa56_row2_col15, #T_8fa56_row2_col16, #T_8fa56_row2_col17, #T_8fa56_row3_col0, #T_8fa56_row3_col15, #T_8fa56_row3_col16, #T_8fa56_row3_col17, #T_8fa56_row4_col0, #T_8fa56_row4_col6, #T_8fa56_row4_col7, #T_8fa56_row4_col8, #T_8fa56_row4_col9, #T_8fa56_row4_col10, #T_8fa56_row4_col15, #T_8fa56_row4_col16, #T_8fa56_row4_col17, #T_8fa56_row5_col0, #T_8fa56_row5_col5, #T_8fa56_row5_col6, #T_8fa56_row5_col7, #T_8fa56_row5_col8, #T_8fa56_row5_col9, #T_8fa56_row5_col15, #T_8fa56_row5_col16, #T_8fa56_row5_col17, #T_8fa56_row6_col0, #T_8fa56_row6_col1, #T_8fa56_row6_col2, #T_8fa56_row6_col3, #T_8fa56_row6_col4, #T_8fa56_row6_col5, #T_8fa56_row6_col6, #T_8fa56_row6_col7, #T_8fa56_row6_col8, #T_8fa56_row6_col9, #T_8fa56_row6_col14, #T_8fa56_row6_col15, #T_8fa56_row6_col16, #T_8fa56_row6_col17, #T_8fa56_row7_col0, #T_8fa56_row7_col1, #T_8fa56_row7_col2, #T_8fa56_row7_col3, #T_8fa56_row7_col4, #T_8fa56_row7_col5, #T_8fa56_row7_col6, #T_8fa56_row7_col13, #T_8fa56_row7_col14, #T_8fa56_row7_col15, #T_8fa56_row7_col16, #T_8fa56_row7_col17, #T_8fa56_row8_col0, #T_8fa56_row8_col1, #T_8fa56_row8_col2, #T_8fa56_row8_col3, #T_8fa56_row8_col4, #T_8fa56_row8_col13, #T_8fa56_row8_col14, #T_8fa56_row8_col15, #T_8fa56_row8_col16, #T_8fa56_row8_col17, #T_8fa56_row9_col0, #T_8fa56_row9_col1, #T_8fa56_row9_col2, #T_8fa56_row9_col3, #T_8fa56_row9_col4, #T_8fa56_row9_col16, #T_8fa56_row9_col17, #T_8fa56_row10_col0, #T_8fa56_row10_col1, #T_8fa56_row10_col2, #T_8fa56_row10_col3, #T_8fa56_row10_col4, #T_8fa56_row10_col5, #T_8fa56_row10_col6, #T_8fa56_row10_col17 {\n",
       "  font-size: 6pt;\n",
       "  background-color: #ffffff;\n",
       "  color: #000000;\n",
       "}\n",
       "#T_8fa56_row1_col5 {\n",
       "  font-size: 6pt;\n",
       "  background-color: #efefef;\n",
       "  color: #000000;\n",
       "}\n",
       "#T_8fa56_row1_col6, #T_8fa56_row1_col13 {\n",
       "  font-size: 6pt;\n",
       "  background-color: #7c7c7c;\n",
       "  color: #f1f1f1;\n",
       "}\n",
       "#T_8fa56_row1_col7 {\n",
       "  font-size: 6pt;\n",
       "  background-color: #4a4a4a;\n",
       "  color: #f1f1f1;\n",
       "}\n",
       "#T_8fa56_row1_col8, #T_8fa56_row1_col9, #T_8fa56_row1_col10, #T_8fa56_row2_col5, #T_8fa56_row2_col6, #T_8fa56_row2_col7, #T_8fa56_row2_col11, #T_8fa56_row2_col12, #T_8fa56_row2_col13, #T_8fa56_row3_col4, #T_8fa56_row3_col12, #T_8fa56_row3_col13, #T_8fa56_row4_col1, #T_8fa56_row4_col2, #T_8fa56_row4_col3, #T_8fa56_row4_col12, #T_8fa56_row4_col13, #T_8fa56_row5_col12, #T_8fa56_row6_col11, #T_8fa56_row9_col11, #T_8fa56_row10_col11, #T_8fa56_row10_col12, #T_8fa56_row10_col13, #T_8fa56_row10_col14, #T_8fa56_row10_col15, #T_8fa56_row10_col16 {\n",
       "  font-size: 6pt;\n",
       "  background-color: #000000;\n",
       "  color: #f1f1f1;\n",
       "}\n",
       "#T_8fa56_row1_col11 {\n",
       "  font-size: 6pt;\n",
       "  background-color: #606060;\n",
       "  color: #f1f1f1;\n",
       "}\n",
       "#T_8fa56_row1_col12 {\n",
       "  font-size: 6pt;\n",
       "  background-color: #4d4d4d;\n",
       "  color: #f1f1f1;\n",
       "}\n",
       "#T_8fa56_row1_col14 {\n",
       "  font-size: 6pt;\n",
       "  background-color: #bbbbbb;\n",
       "  color: #000000;\n",
       "}\n",
       "#T_8fa56_row2_col3 {\n",
       "  font-size: 6pt;\n",
       "  background-color: #e4e4e4;\n",
       "  color: #000000;\n",
       "}\n",
       "#T_8fa56_row2_col4, #T_8fa56_row8_col6 {\n",
       "  font-size: 6pt;\n",
       "  background-color: #6b6b6b;\n",
       "  color: #f1f1f1;\n",
       "}\n",
       "#T_8fa56_row2_col8, #T_8fa56_row2_col14, #T_8fa56_row3_col14 {\n",
       "  font-size: 6pt;\n",
       "  background-color: #171717;\n",
       "  color: #f1f1f1;\n",
       "}\n",
       "#T_8fa56_row2_col9, #T_8fa56_row3_col11 {\n",
       "  font-size: 6pt;\n",
       "  background-color: #4b4b4b;\n",
       "  color: #f1f1f1;\n",
       "}\n",
       "#T_8fa56_row2_col10, #T_8fa56_row7_col10, #T_8fa56_row8_col8, #T_8fa56_row8_col10, #T_8fa56_row9_col8, #T_8fa56_row9_col10 {\n",
       "  font-size: 6pt;\n",
       "  background-color: #010101;\n",
       "  color: #f1f1f1;\n",
       "}\n",
       "#T_8fa56_row3_col1 {\n",
       "  font-size: 6pt;\n",
       "  background-color: #272727;\n",
       "  color: #f1f1f1;\n",
       "}\n",
       "#T_8fa56_row3_col2 {\n",
       "  font-size: 6pt;\n",
       "  background-color: #0a0a0a;\n",
       "  color: #f1f1f1;\n",
       "}\n",
       "#T_8fa56_row3_col3 {\n",
       "  font-size: 6pt;\n",
       "  background-color: #050505;\n",
       "  color: #f1f1f1;\n",
       "}\n",
       "#T_8fa56_row3_col5 {\n",
       "  font-size: 6pt;\n",
       "  background-color: #333333;\n",
       "  color: #f1f1f1;\n",
       "}\n",
       "#T_8fa56_row3_col6 {\n",
       "  font-size: 6pt;\n",
       "  background-color: #e6e6e6;\n",
       "  color: #000000;\n",
       "}\n",
       "#T_8fa56_row3_col7, #T_8fa56_row3_col10 {\n",
       "  font-size: 6pt;\n",
       "  background-color: #fafafa;\n",
       "  color: #000000;\n",
       "}\n",
       "#T_8fa56_row3_col8 {\n",
       "  font-size: 6pt;\n",
       "  background-color: #fbfbfb;\n",
       "  color: #000000;\n",
       "}\n",
       "#T_8fa56_row3_col9 {\n",
       "  font-size: 6pt;\n",
       "  background-color: #fdfdfd;\n",
       "  color: #000000;\n",
       "}\n",
       "#T_8fa56_row4_col4 {\n",
       "  font-size: 6pt;\n",
       "  background-color: #1b1b1b;\n",
       "  color: #f1f1f1;\n",
       "}\n",
       "#T_8fa56_row4_col5 {\n",
       "  font-size: 6pt;\n",
       "  background-color: #e0e0e0;\n",
       "  color: #000000;\n",
       "}\n",
       "#T_8fa56_row4_col11 {\n",
       "  font-size: 6pt;\n",
       "  background-color: #4e4e4e;\n",
       "  color: #f1f1f1;\n",
       "}\n",
       "#T_8fa56_row4_col14 {\n",
       "  font-size: 6pt;\n",
       "  background-color: #767676;\n",
       "  color: #f1f1f1;\n",
       "}\n",
       "#T_8fa56_row5_col1 {\n",
       "  font-size: 6pt;\n",
       "  background-color: #fcfcfc;\n",
       "  color: #000000;\n",
       "}\n",
       "#T_8fa56_row5_col2, #T_8fa56_row5_col3 {\n",
       "  font-size: 6pt;\n",
       "  background-color: #f6f6f6;\n",
       "  color: #000000;\n",
       "}\n",
       "#T_8fa56_row5_col4, #T_8fa56_row7_col7 {\n",
       "  font-size: 6pt;\n",
       "  background-color: #f8f8f8;\n",
       "  color: #000000;\n",
       "}\n",
       "#T_8fa56_row5_col10, #T_8fa56_row10_col7 {\n",
       "  font-size: 6pt;\n",
       "  background-color: #e8e8e8;\n",
       "  color: #000000;\n",
       "}\n",
       "#T_8fa56_row5_col11 {\n",
       "  font-size: 6pt;\n",
       "  background-color: #222222;\n",
       "  color: #f1f1f1;\n",
       "}\n",
       "#T_8fa56_row5_col13, #T_8fa56_row6_col12 {\n",
       "  font-size: 6pt;\n",
       "  background-color: #090909;\n",
       "  color: #f1f1f1;\n",
       "}\n",
       "#T_8fa56_row5_col14 {\n",
       "  font-size: 6pt;\n",
       "  background-color: #d0d0d0;\n",
       "  color: #000000;\n",
       "}\n",
       "#T_8fa56_row6_col10, #T_8fa56_row7_col11, #T_8fa56_row9_col6 {\n",
       "  font-size: 6pt;\n",
       "  background-color: #060606;\n",
       "  color: #f1f1f1;\n",
       "}\n",
       "#T_8fa56_row6_col13 {\n",
       "  font-size: 6pt;\n",
       "  background-color: #979797;\n",
       "  color: #f1f1f1;\n",
       "}\n",
       "#T_8fa56_row7_col8 {\n",
       "  font-size: 6pt;\n",
       "  background-color: #b6b6b6;\n",
       "  color: #000000;\n",
       "}\n",
       "#T_8fa56_row7_col9 {\n",
       "  font-size: 6pt;\n",
       "  background-color: #252525;\n",
       "  color: #f1f1f1;\n",
       "}\n",
       "#T_8fa56_row7_col12 {\n",
       "  font-size: 6pt;\n",
       "  background-color: #999999;\n",
       "  color: #f1f1f1;\n",
       "}\n",
       "#T_8fa56_row8_col5 {\n",
       "  font-size: 6pt;\n",
       "  background-color: #f9f9f9;\n",
       "  color: #000000;\n",
       "}\n",
       "#T_8fa56_row8_col7 {\n",
       "  font-size: 6pt;\n",
       "  background-color: #101010;\n",
       "  color: #f1f1f1;\n",
       "}\n",
       "#T_8fa56_row8_col9, #T_8fa56_row9_col9 {\n",
       "  font-size: 6pt;\n",
       "  background-color: #020202;\n",
       "  color: #f1f1f1;\n",
       "}\n",
       "#T_8fa56_row8_col11 {\n",
       "  font-size: 6pt;\n",
       "  background-color: #545454;\n",
       "  color: #f1f1f1;\n",
       "}\n",
       "#T_8fa56_row8_col12 {\n",
       "  font-size: 6pt;\n",
       "  background-color: #f1f1f1;\n",
       "  color: #000000;\n",
       "}\n",
       "#T_8fa56_row9_col5 {\n",
       "  font-size: 6pt;\n",
       "  background-color: #f7f7f7;\n",
       "  color: #000000;\n",
       "}\n",
       "#T_8fa56_row9_col7 {\n",
       "  font-size: 6pt;\n",
       "  background-color: #030303;\n",
       "  color: #f1f1f1;\n",
       "}\n",
       "#T_8fa56_row9_col12 {\n",
       "  font-size: 6pt;\n",
       "  background-color: #181818;\n",
       "  color: #f1f1f1;\n",
       "}\n",
       "#T_8fa56_row9_col13 {\n",
       "  font-size: 6pt;\n",
       "  background-color: #303030;\n",
       "  color: #f1f1f1;\n",
       "}\n",
       "#T_8fa56_row9_col14 {\n",
       "  font-size: 6pt;\n",
       "  background-color: #a9a9a9;\n",
       "  color: #f1f1f1;\n",
       "}\n",
       "#T_8fa56_row9_col15 {\n",
       "  font-size: 6pt;\n",
       "  background-color: #fefefe;\n",
       "  color: #000000;\n",
       "}\n",
       "#T_8fa56_row10_col8, #T_8fa56_row10_col9 {\n",
       "  font-size: 6pt;\n",
       "  background-color: #bababa;\n",
       "  color: #000000;\n",
       "}\n",
       "#T_8fa56_row10_col10 {\n",
       "  font-size: 6pt;\n",
       "  background-color: #393939;\n",
       "  color: #f1f1f1;\n",
       "}\n",
       "</style>\n",
       "<table id=\"T_8fa56\">\n",
       "  <thead>\n",
       "    <tr>\n",
       "      <th class=\"blank level0\" >&nbsp;</th>\n",
       "      <th id=\"T_8fa56_level0_col0\" class=\"col_heading level0 col0\" >0</th>\n",
       "      <th id=\"T_8fa56_level0_col1\" class=\"col_heading level0 col1\" >1</th>\n",
       "      <th id=\"T_8fa56_level0_col2\" class=\"col_heading level0 col2\" >2</th>\n",
       "      <th id=\"T_8fa56_level0_col3\" class=\"col_heading level0 col3\" >3</th>\n",
       "      <th id=\"T_8fa56_level0_col4\" class=\"col_heading level0 col4\" >4</th>\n",
       "      <th id=\"T_8fa56_level0_col5\" class=\"col_heading level0 col5\" >5</th>\n",
       "      <th id=\"T_8fa56_level0_col6\" class=\"col_heading level0 col6\" >6</th>\n",
       "      <th id=\"T_8fa56_level0_col7\" class=\"col_heading level0 col7\" >7</th>\n",
       "      <th id=\"T_8fa56_level0_col8\" class=\"col_heading level0 col8\" >8</th>\n",
       "      <th id=\"T_8fa56_level0_col9\" class=\"col_heading level0 col9\" >9</th>\n",
       "      <th id=\"T_8fa56_level0_col10\" class=\"col_heading level0 col10\" >10</th>\n",
       "      <th id=\"T_8fa56_level0_col11\" class=\"col_heading level0 col11\" >11</th>\n",
       "      <th id=\"T_8fa56_level0_col12\" class=\"col_heading level0 col12\" >12</th>\n",
       "      <th id=\"T_8fa56_level0_col13\" class=\"col_heading level0 col13\" >13</th>\n",
       "      <th id=\"T_8fa56_level0_col14\" class=\"col_heading level0 col14\" >14</th>\n",
       "      <th id=\"T_8fa56_level0_col15\" class=\"col_heading level0 col15\" >15</th>\n",
       "      <th id=\"T_8fa56_level0_col16\" class=\"col_heading level0 col16\" >16</th>\n",
       "      <th id=\"T_8fa56_level0_col17\" class=\"col_heading level0 col17\" >17</th>\n",
       "    </tr>\n",
       "  </thead>\n",
       "  <tbody>\n",
       "    <tr>\n",
       "      <th id=\"T_8fa56_level0_row0\" class=\"row_heading level0 row0\" >0</th>\n",
       "      <td id=\"T_8fa56_row0_col0\" class=\"data row0 col0\" >0</td>\n",
       "      <td id=\"T_8fa56_row0_col1\" class=\"data row0 col1\" >0</td>\n",
       "      <td id=\"T_8fa56_row0_col2\" class=\"data row0 col2\" >0</td>\n",
       "      <td id=\"T_8fa56_row0_col3\" class=\"data row0 col3\" >0</td>\n",
       "      <td id=\"T_8fa56_row0_col4\" class=\"data row0 col4\" >0</td>\n",
       "      <td id=\"T_8fa56_row0_col5\" class=\"data row0 col5\" >0</td>\n",
       "      <td id=\"T_8fa56_row0_col6\" class=\"data row0 col6\" >0</td>\n",
       "      <td id=\"T_8fa56_row0_col7\" class=\"data row0 col7\" >0</td>\n",
       "      <td id=\"T_8fa56_row0_col8\" class=\"data row0 col8\" >0</td>\n",
       "      <td id=\"T_8fa56_row0_col9\" class=\"data row0 col9\" >0</td>\n",
       "      <td id=\"T_8fa56_row0_col10\" class=\"data row0 col10\" >0</td>\n",
       "      <td id=\"T_8fa56_row0_col11\" class=\"data row0 col11\" >0</td>\n",
       "      <td id=\"T_8fa56_row0_col12\" class=\"data row0 col12\" >0</td>\n",
       "      <td id=\"T_8fa56_row0_col13\" class=\"data row0 col13\" >0</td>\n",
       "      <td id=\"T_8fa56_row0_col14\" class=\"data row0 col14\" >0</td>\n",
       "      <td id=\"T_8fa56_row0_col15\" class=\"data row0 col15\" >0</td>\n",
       "      <td id=\"T_8fa56_row0_col16\" class=\"data row0 col16\" >0</td>\n",
       "      <td id=\"T_8fa56_row0_col17\" class=\"data row0 col17\" >0</td>\n",
       "    </tr>\n",
       "    <tr>\n",
       "      <th id=\"T_8fa56_level0_row1\" class=\"row_heading level0 row1\" >1</th>\n",
       "      <td id=\"T_8fa56_row1_col0\" class=\"data row1 col0\" >0</td>\n",
       "      <td id=\"T_8fa56_row1_col1\" class=\"data row1 col1\" >0</td>\n",
       "      <td id=\"T_8fa56_row1_col2\" class=\"data row1 col2\" >0</td>\n",
       "      <td id=\"T_8fa56_row1_col3\" class=\"data row1 col3\" >0</td>\n",
       "      <td id=\"T_8fa56_row1_col4\" class=\"data row1 col4\" >0</td>\n",
       "      <td id=\"T_8fa56_row1_col5\" class=\"data row1 col5\" >29</td>\n",
       "      <td id=\"T_8fa56_row1_col6\" class=\"data row1 col6\" >150</td>\n",
       "      <td id=\"T_8fa56_row1_col7\" class=\"data row1 col7\" >195</td>\n",
       "      <td id=\"T_8fa56_row1_col8\" class=\"data row1 col8\" >254</td>\n",
       "      <td id=\"T_8fa56_row1_col9\" class=\"data row1 col9\" >255</td>\n",
       "      <td id=\"T_8fa56_row1_col10\" class=\"data row1 col10\" >254</td>\n",
       "      <td id=\"T_8fa56_row1_col11\" class=\"data row1 col11\" >176</td>\n",
       "      <td id=\"T_8fa56_row1_col12\" class=\"data row1 col12\" >193</td>\n",
       "      <td id=\"T_8fa56_row1_col13\" class=\"data row1 col13\" >150</td>\n",
       "      <td id=\"T_8fa56_row1_col14\" class=\"data row1 col14\" >96</td>\n",
       "      <td id=\"T_8fa56_row1_col15\" class=\"data row1 col15\" >0</td>\n",
       "      <td id=\"T_8fa56_row1_col16\" class=\"data row1 col16\" >0</td>\n",
       "      <td id=\"T_8fa56_row1_col17\" class=\"data row1 col17\" >0</td>\n",
       "    </tr>\n",
       "    <tr>\n",
       "      <th id=\"T_8fa56_level0_row2\" class=\"row_heading level0 row2\" >2</th>\n",
       "      <td id=\"T_8fa56_row2_col0\" class=\"data row2 col0\" >0</td>\n",
       "      <td id=\"T_8fa56_row2_col1\" class=\"data row2 col1\" >0</td>\n",
       "      <td id=\"T_8fa56_row2_col2\" class=\"data row2 col2\" >0</td>\n",
       "      <td id=\"T_8fa56_row2_col3\" class=\"data row2 col3\" >48</td>\n",
       "      <td id=\"T_8fa56_row2_col4\" class=\"data row2 col4\" >166</td>\n",
       "      <td id=\"T_8fa56_row2_col5\" class=\"data row2 col5\" >224</td>\n",
       "      <td id=\"T_8fa56_row2_col6\" class=\"data row2 col6\" >253</td>\n",
       "      <td id=\"T_8fa56_row2_col7\" class=\"data row2 col7\" >253</td>\n",
       "      <td id=\"T_8fa56_row2_col8\" class=\"data row2 col8\" >234</td>\n",
       "      <td id=\"T_8fa56_row2_col9\" class=\"data row2 col9\" >196</td>\n",
       "      <td id=\"T_8fa56_row2_col10\" class=\"data row2 col10\" >253</td>\n",
       "      <td id=\"T_8fa56_row2_col11\" class=\"data row2 col11\" >253</td>\n",
       "      <td id=\"T_8fa56_row2_col12\" class=\"data row2 col12\" >253</td>\n",
       "      <td id=\"T_8fa56_row2_col13\" class=\"data row2 col13\" >253</td>\n",
       "      <td id=\"T_8fa56_row2_col14\" class=\"data row2 col14\" >233</td>\n",
       "      <td id=\"T_8fa56_row2_col15\" class=\"data row2 col15\" >0</td>\n",
       "      <td id=\"T_8fa56_row2_col16\" class=\"data row2 col16\" >0</td>\n",
       "      <td id=\"T_8fa56_row2_col17\" class=\"data row2 col17\" >0</td>\n",
       "    </tr>\n",
       "    <tr>\n",
       "      <th id=\"T_8fa56_level0_row3\" class=\"row_heading level0 row3\" >3</th>\n",
       "      <td id=\"T_8fa56_row3_col0\" class=\"data row3 col0\" >0</td>\n",
       "      <td id=\"T_8fa56_row3_col1\" class=\"data row3 col1\" >93</td>\n",
       "      <td id=\"T_8fa56_row3_col2\" class=\"data row3 col2\" >244</td>\n",
       "      <td id=\"T_8fa56_row3_col3\" class=\"data row3 col3\" >249</td>\n",
       "      <td id=\"T_8fa56_row3_col4\" class=\"data row3 col4\" >253</td>\n",
       "      <td id=\"T_8fa56_row3_col5\" class=\"data row3 col5\" >187</td>\n",
       "      <td id=\"T_8fa56_row3_col6\" class=\"data row3 col6\" >46</td>\n",
       "      <td id=\"T_8fa56_row3_col7\" class=\"data row3 col7\" >10</td>\n",
       "      <td id=\"T_8fa56_row3_col8\" class=\"data row3 col8\" >8</td>\n",
       "      <td id=\"T_8fa56_row3_col9\" class=\"data row3 col9\" >4</td>\n",
       "      <td id=\"T_8fa56_row3_col10\" class=\"data row3 col10\" >10</td>\n",
       "      <td id=\"T_8fa56_row3_col11\" class=\"data row3 col11\" >194</td>\n",
       "      <td id=\"T_8fa56_row3_col12\" class=\"data row3 col12\" >253</td>\n",
       "      <td id=\"T_8fa56_row3_col13\" class=\"data row3 col13\" >253</td>\n",
       "      <td id=\"T_8fa56_row3_col14\" class=\"data row3 col14\" >233</td>\n",
       "      <td id=\"T_8fa56_row3_col15\" class=\"data row3 col15\" >0</td>\n",
       "      <td id=\"T_8fa56_row3_col16\" class=\"data row3 col16\" >0</td>\n",
       "      <td id=\"T_8fa56_row3_col17\" class=\"data row3 col17\" >0</td>\n",
       "    </tr>\n",
       "    <tr>\n",
       "      <th id=\"T_8fa56_level0_row4\" class=\"row_heading level0 row4\" >4</th>\n",
       "      <td id=\"T_8fa56_row4_col0\" class=\"data row4 col0\" >0</td>\n",
       "      <td id=\"T_8fa56_row4_col1\" class=\"data row4 col1\" >107</td>\n",
       "      <td id=\"T_8fa56_row4_col2\" class=\"data row4 col2\" >253</td>\n",
       "      <td id=\"T_8fa56_row4_col3\" class=\"data row4 col3\" >253</td>\n",
       "      <td id=\"T_8fa56_row4_col4\" class=\"data row4 col4\" >230</td>\n",
       "      <td id=\"T_8fa56_row4_col5\" class=\"data row4 col5\" >48</td>\n",
       "      <td id=\"T_8fa56_row4_col6\" class=\"data row4 col6\" >0</td>\n",
       "      <td id=\"T_8fa56_row4_col7\" class=\"data row4 col7\" >0</td>\n",
       "      <td id=\"T_8fa56_row4_col8\" class=\"data row4 col8\" >0</td>\n",
       "      <td id=\"T_8fa56_row4_col9\" class=\"data row4 col9\" >0</td>\n",
       "      <td id=\"T_8fa56_row4_col10\" class=\"data row4 col10\" >0</td>\n",
       "      <td id=\"T_8fa56_row4_col11\" class=\"data row4 col11\" >192</td>\n",
       "      <td id=\"T_8fa56_row4_col12\" class=\"data row4 col12\" >253</td>\n",
       "      <td id=\"T_8fa56_row4_col13\" class=\"data row4 col13\" >253</td>\n",
       "      <td id=\"T_8fa56_row4_col14\" class=\"data row4 col14\" >156</td>\n",
       "      <td id=\"T_8fa56_row4_col15\" class=\"data row4 col15\" >0</td>\n",
       "      <td id=\"T_8fa56_row4_col16\" class=\"data row4 col16\" >0</td>\n",
       "      <td id=\"T_8fa56_row4_col17\" class=\"data row4 col17\" >0</td>\n",
       "    </tr>\n",
       "    <tr>\n",
       "      <th id=\"T_8fa56_level0_row5\" class=\"row_heading level0 row5\" >5</th>\n",
       "      <td id=\"T_8fa56_row5_col0\" class=\"data row5 col0\" >0</td>\n",
       "      <td id=\"T_8fa56_row5_col1\" class=\"data row5 col1\" >3</td>\n",
       "      <td id=\"T_8fa56_row5_col2\" class=\"data row5 col2\" >20</td>\n",
       "      <td id=\"T_8fa56_row5_col3\" class=\"data row5 col3\" >20</td>\n",
       "      <td id=\"T_8fa56_row5_col4\" class=\"data row5 col4\" >15</td>\n",
       "      <td id=\"T_8fa56_row5_col5\" class=\"data row5 col5\" >0</td>\n",
       "      <td id=\"T_8fa56_row5_col6\" class=\"data row5 col6\" >0</td>\n",
       "      <td id=\"T_8fa56_row5_col7\" class=\"data row5 col7\" >0</td>\n",
       "      <td id=\"T_8fa56_row5_col8\" class=\"data row5 col8\" >0</td>\n",
       "      <td id=\"T_8fa56_row5_col9\" class=\"data row5 col9\" >0</td>\n",
       "      <td id=\"T_8fa56_row5_col10\" class=\"data row5 col10\" >43</td>\n",
       "      <td id=\"T_8fa56_row5_col11\" class=\"data row5 col11\" >224</td>\n",
       "      <td id=\"T_8fa56_row5_col12\" class=\"data row5 col12\" >253</td>\n",
       "      <td id=\"T_8fa56_row5_col13\" class=\"data row5 col13\" >245</td>\n",
       "      <td id=\"T_8fa56_row5_col14\" class=\"data row5 col14\" >74</td>\n",
       "      <td id=\"T_8fa56_row5_col15\" class=\"data row5 col15\" >0</td>\n",
       "      <td id=\"T_8fa56_row5_col16\" class=\"data row5 col16\" >0</td>\n",
       "      <td id=\"T_8fa56_row5_col17\" class=\"data row5 col17\" >0</td>\n",
       "    </tr>\n",
       "    <tr>\n",
       "      <th id=\"T_8fa56_level0_row6\" class=\"row_heading level0 row6\" >6</th>\n",
       "      <td id=\"T_8fa56_row6_col0\" class=\"data row6 col0\" >0</td>\n",
       "      <td id=\"T_8fa56_row6_col1\" class=\"data row6 col1\" >0</td>\n",
       "      <td id=\"T_8fa56_row6_col2\" class=\"data row6 col2\" >0</td>\n",
       "      <td id=\"T_8fa56_row6_col3\" class=\"data row6 col3\" >0</td>\n",
       "      <td id=\"T_8fa56_row6_col4\" class=\"data row6 col4\" >0</td>\n",
       "      <td id=\"T_8fa56_row6_col5\" class=\"data row6 col5\" >0</td>\n",
       "      <td id=\"T_8fa56_row6_col6\" class=\"data row6 col6\" >0</td>\n",
       "      <td id=\"T_8fa56_row6_col7\" class=\"data row6 col7\" >0</td>\n",
       "      <td id=\"T_8fa56_row6_col8\" class=\"data row6 col8\" >0</td>\n",
       "      <td id=\"T_8fa56_row6_col9\" class=\"data row6 col9\" >0</td>\n",
       "      <td id=\"T_8fa56_row6_col10\" class=\"data row6 col10\" >249</td>\n",
       "      <td id=\"T_8fa56_row6_col11\" class=\"data row6 col11\" >253</td>\n",
       "      <td id=\"T_8fa56_row6_col12\" class=\"data row6 col12\" >245</td>\n",
       "      <td id=\"T_8fa56_row6_col13\" class=\"data row6 col13\" >126</td>\n",
       "      <td id=\"T_8fa56_row6_col14\" class=\"data row6 col14\" >0</td>\n",
       "      <td id=\"T_8fa56_row6_col15\" class=\"data row6 col15\" >0</td>\n",
       "      <td id=\"T_8fa56_row6_col16\" class=\"data row6 col16\" >0</td>\n",
       "      <td id=\"T_8fa56_row6_col17\" class=\"data row6 col17\" >0</td>\n",
       "    </tr>\n",
       "    <tr>\n",
       "      <th id=\"T_8fa56_level0_row7\" class=\"row_heading level0 row7\" >7</th>\n",
       "      <td id=\"T_8fa56_row7_col0\" class=\"data row7 col0\" >0</td>\n",
       "      <td id=\"T_8fa56_row7_col1\" class=\"data row7 col1\" >0</td>\n",
       "      <td id=\"T_8fa56_row7_col2\" class=\"data row7 col2\" >0</td>\n",
       "      <td id=\"T_8fa56_row7_col3\" class=\"data row7 col3\" >0</td>\n",
       "      <td id=\"T_8fa56_row7_col4\" class=\"data row7 col4\" >0</td>\n",
       "      <td id=\"T_8fa56_row7_col5\" class=\"data row7 col5\" >0</td>\n",
       "      <td id=\"T_8fa56_row7_col6\" class=\"data row7 col6\" >0</td>\n",
       "      <td id=\"T_8fa56_row7_col7\" class=\"data row7 col7\" >14</td>\n",
       "      <td id=\"T_8fa56_row7_col8\" class=\"data row7 col8\" >101</td>\n",
       "      <td id=\"T_8fa56_row7_col9\" class=\"data row7 col9\" >223</td>\n",
       "      <td id=\"T_8fa56_row7_col10\" class=\"data row7 col10\" >253</td>\n",
       "      <td id=\"T_8fa56_row7_col11\" class=\"data row7 col11\" >248</td>\n",
       "      <td id=\"T_8fa56_row7_col12\" class=\"data row7 col12\" >124</td>\n",
       "      <td id=\"T_8fa56_row7_col13\" class=\"data row7 col13\" >0</td>\n",
       "      <td id=\"T_8fa56_row7_col14\" class=\"data row7 col14\" >0</td>\n",
       "      <td id=\"T_8fa56_row7_col15\" class=\"data row7 col15\" >0</td>\n",
       "      <td id=\"T_8fa56_row7_col16\" class=\"data row7 col16\" >0</td>\n",
       "      <td id=\"T_8fa56_row7_col17\" class=\"data row7 col17\" >0</td>\n",
       "    </tr>\n",
       "    <tr>\n",
       "      <th id=\"T_8fa56_level0_row8\" class=\"row_heading level0 row8\" >8</th>\n",
       "      <td id=\"T_8fa56_row8_col0\" class=\"data row8 col0\" >0</td>\n",
       "      <td id=\"T_8fa56_row8_col1\" class=\"data row8 col1\" >0</td>\n",
       "      <td id=\"T_8fa56_row8_col2\" class=\"data row8 col2\" >0</td>\n",
       "      <td id=\"T_8fa56_row8_col3\" class=\"data row8 col3\" >0</td>\n",
       "      <td id=\"T_8fa56_row8_col4\" class=\"data row8 col4\" >0</td>\n",
       "      <td id=\"T_8fa56_row8_col5\" class=\"data row8 col5\" >11</td>\n",
       "      <td id=\"T_8fa56_row8_col6\" class=\"data row8 col6\" >166</td>\n",
       "      <td id=\"T_8fa56_row8_col7\" class=\"data row8 col7\" >239</td>\n",
       "      <td id=\"T_8fa56_row8_col8\" class=\"data row8 col8\" >253</td>\n",
       "      <td id=\"T_8fa56_row8_col9\" class=\"data row8 col9\" >253</td>\n",
       "      <td id=\"T_8fa56_row8_col10\" class=\"data row8 col10\" >253</td>\n",
       "      <td id=\"T_8fa56_row8_col11\" class=\"data row8 col11\" >187</td>\n",
       "      <td id=\"T_8fa56_row8_col12\" class=\"data row8 col12\" >30</td>\n",
       "      <td id=\"T_8fa56_row8_col13\" class=\"data row8 col13\" >0</td>\n",
       "      <td id=\"T_8fa56_row8_col14\" class=\"data row8 col14\" >0</td>\n",
       "      <td id=\"T_8fa56_row8_col15\" class=\"data row8 col15\" >0</td>\n",
       "      <td id=\"T_8fa56_row8_col16\" class=\"data row8 col16\" >0</td>\n",
       "      <td id=\"T_8fa56_row8_col17\" class=\"data row8 col17\" >0</td>\n",
       "    </tr>\n",
       "    <tr>\n",
       "      <th id=\"T_8fa56_level0_row9\" class=\"row_heading level0 row9\" >9</th>\n",
       "      <td id=\"T_8fa56_row9_col0\" class=\"data row9 col0\" >0</td>\n",
       "      <td id=\"T_8fa56_row9_col1\" class=\"data row9 col1\" >0</td>\n",
       "      <td id=\"T_8fa56_row9_col2\" class=\"data row9 col2\" >0</td>\n",
       "      <td id=\"T_8fa56_row9_col3\" class=\"data row9 col3\" >0</td>\n",
       "      <td id=\"T_8fa56_row9_col4\" class=\"data row9 col4\" >0</td>\n",
       "      <td id=\"T_8fa56_row9_col5\" class=\"data row9 col5\" >16</td>\n",
       "      <td id=\"T_8fa56_row9_col6\" class=\"data row9 col6\" >248</td>\n",
       "      <td id=\"T_8fa56_row9_col7\" class=\"data row9 col7\" >250</td>\n",
       "      <td id=\"T_8fa56_row9_col8\" class=\"data row9 col8\" >253</td>\n",
       "      <td id=\"T_8fa56_row9_col9\" class=\"data row9 col9\" >253</td>\n",
       "      <td id=\"T_8fa56_row9_col10\" class=\"data row9 col10\" >253</td>\n",
       "      <td id=\"T_8fa56_row9_col11\" class=\"data row9 col11\" >253</td>\n",
       "      <td id=\"T_8fa56_row9_col12\" class=\"data row9 col12\" >232</td>\n",
       "      <td id=\"T_8fa56_row9_col13\" class=\"data row9 col13\" >213</td>\n",
       "      <td id=\"T_8fa56_row9_col14\" class=\"data row9 col14\" >111</td>\n",
       "      <td id=\"T_8fa56_row9_col15\" class=\"data row9 col15\" >2</td>\n",
       "      <td id=\"T_8fa56_row9_col16\" class=\"data row9 col16\" >0</td>\n",
       "      <td id=\"T_8fa56_row9_col17\" class=\"data row9 col17\" >0</td>\n",
       "    </tr>\n",
       "    <tr>\n",
       "      <th id=\"T_8fa56_level0_row10\" class=\"row_heading level0 row10\" >10</th>\n",
       "      <td id=\"T_8fa56_row10_col0\" class=\"data row10 col0\" >0</td>\n",
       "      <td id=\"T_8fa56_row10_col1\" class=\"data row10 col1\" >0</td>\n",
       "      <td id=\"T_8fa56_row10_col2\" class=\"data row10 col2\" >0</td>\n",
       "      <td id=\"T_8fa56_row10_col3\" class=\"data row10 col3\" >0</td>\n",
       "      <td id=\"T_8fa56_row10_col4\" class=\"data row10 col4\" >0</td>\n",
       "      <td id=\"T_8fa56_row10_col5\" class=\"data row10 col5\" >0</td>\n",
       "      <td id=\"T_8fa56_row10_col6\" class=\"data row10 col6\" >0</td>\n",
       "      <td id=\"T_8fa56_row10_col7\" class=\"data row10 col7\" >43</td>\n",
       "      <td id=\"T_8fa56_row10_col8\" class=\"data row10 col8\" >98</td>\n",
       "      <td id=\"T_8fa56_row10_col9\" class=\"data row10 col9\" >98</td>\n",
       "      <td id=\"T_8fa56_row10_col10\" class=\"data row10 col10\" >208</td>\n",
       "      <td id=\"T_8fa56_row10_col11\" class=\"data row10 col11\" >253</td>\n",
       "      <td id=\"T_8fa56_row10_col12\" class=\"data row10 col12\" >253</td>\n",
       "      <td id=\"T_8fa56_row10_col13\" class=\"data row10 col13\" >253</td>\n",
       "      <td id=\"T_8fa56_row10_col14\" class=\"data row10 col14\" >253</td>\n",
       "      <td id=\"T_8fa56_row10_col15\" class=\"data row10 col15\" >187</td>\n",
       "      <td id=\"T_8fa56_row10_col16\" class=\"data row10 col16\" >22</td>\n",
       "      <td id=\"T_8fa56_row10_col17\" class=\"data row10 col17\" >0</td>\n",
       "    </tr>\n",
       "  </tbody>\n",
       "</table>\n"
      ],
      "text/plain": [
       "<pandas.io.formats.style.Styler at 0x7f7b34a59d50>"
      ]
     },
     "execution_count": 17,
     "metadata": {},
     "output_type": "execute_result"
    }
   ],
   "source": [
    "im_3_tensor = tensor(im_3)\n",
    "df = pd.DataFrame(im_3_tensor[4:15, 4:22])\n",
    "df.style.set_properties(**{'font-size': '6pt'}).background_gradient('Greys')"
   ]
  },
  {
   "cell_type": "markdown",
   "metadata": {},
   "source": [
    "## Attempt 1: Pixel Similarity\n",
    "\n",
    "To solve this classification problem, we can start by simply taking the average pixel values of an image that represents that number 3 and the average of the pixel values of an image that represents 7. We can then take the average of the pixels of any image and cross-reference it to these two base points to see if the image represents a 3 or a 7. \n",
    "\n",
    "Start by creating a tensor of all of our 3s stacked together - by first creating a plain list of the single image tensors using **Python List Comprehension**.\n",
    "\n",
    "**Python List Comprehension**: A list comprehension looks like this: `new_list = [f(o) for o in a_list if o>0]`. This will return every element of `a_list` that is greater than 0, after passing it to the function `f`. There are three parts here: the collection you are iterating over (`a_list`), an optional filter (`if o>0`), and something to do to each element (`f(o)`). It's not only shorter to write but way faster than the alternative ways of creating the same list with a loop."
   ]
  },
  {
   "cell_type": "code",
   "execution_count": 18,
   "metadata": {},
   "outputs": [
    {
     "data": {
      "text/plain": [
       "(6131, 6265)"
      ]
     },
     "execution_count": 18,
     "metadata": {},
     "output_type": "execute_result"
    }
   ],
   "source": [
    "three_tensors = [tensor(Image.open(o)) for o in threes]\n",
    "seven_tensors = [tensor(Image.open(o)) for o in sevens]\n",
    "\n",
    "len(three_tensors), len(seven_tensors)"
   ]
  },
  {
   "cell_type": "markdown",
   "metadata": {},
   "source": [
    "Since all of the images are now in tensor format, to display them as images, use fastai's `show_image` function to do so."
   ]
  },
  {
   "cell_type": "code",
   "execution_count": 22,
   "metadata": {},
   "outputs": [
    {
     "data": {
      "text/plain": [
       "<Axes: >"
      ]
     },
     "execution_count": 22,
     "metadata": {},
     "output_type": "execute_result"
    },
    {
     "data": {
      "image/png": "[encoded data removed]",
      "text/plain": [
       "<Figure size 100x100 with 1 Axes>"
      ]
     },
     "metadata": {},
     "output_type": "display_data"
    }
   ],
   "source": [
    "show_image(three_tensors[1])"
   ]
  },
  {
   "cell_type": "markdown",
   "metadata": {},
   "source": [
    "To get the average value for every pixel across all the images, we need to combine all the images into a single, three-dimensional tensor - **rank 3 tensor**. Individual tensors can be stacked into a collection of tensors using PyTorch's `stack`.\n",
    "\n",
    "Also, whenever taking the mean in PyTorch, ints need to be converted into floats. This is done using `.float()`. We're not taking the mean right now but we may as well cast the tensor into that type now."
   ]
  },
  {
   "cell_type": "code",
   "execution_count": 24,
   "metadata": {},
   "outputs": [
    {
     "data": {
      "text/plain": [
       "torch.Size([6131, 28, 28])"
      ]
     },
     "execution_count": 24,
     "metadata": {},
     "output_type": "execute_result"
    }
   ],
   "source": [
    "stacked_threes = torch.stack(three_tensors).float()/255\n",
    "stacked_sevens = torch.stack(seven_tensors).float()/255\n",
    "stacked_threes.shape"
   ]
  },
  {
   "cell_type": "markdown",
   "metadata": {},
   "source": [
    "`.shape` tells us that our `stacked_threes` includes 6131 images, each of which are 28x28 pixels.\n",
    "\n",
    "`len()` of a tensor's `shape` will tell us the tensor rank."
   ]
  },
  {
   "cell_type": "code",
   "execution_count": 25,
   "metadata": {},
   "outputs": [
    {
     "data": {
      "text/plain": [
       "3"
      ]
     },
     "execution_count": 25,
     "metadata": {},
     "output_type": "execute_result"
    }
   ],
   "source": [
    "len(stacked_sevens.shape)"
   ]
  },
  {
   "cell_type": "markdown",
   "metadata": {},
   "source": [
    "### Key Jargon to Remember\n",
    "\n",
    "* **Rank**: The number of axes or dimensions in a tensor - *6131* **(1)**, *28* **(2)**, *28* **(3)**.\n",
    "* **Shape**: The size of each axis of a tensor - *6131, 28, 28*.\n",
    "* *The **length** of a tensor's **shape** is its **rank***.\n",
    "\n",
    "A tensor's rank can be directly found with `ndim`:"
   ]
  },
  {
   "cell_type": "code",
   "execution_count": 26,
   "metadata": {},
   "outputs": [
    {
     "data": {
      "text/plain": [
       "3"
      ]
     },
     "execution_count": 26,
     "metadata": {},
     "output_type": "execute_result"
    }
   ],
   "source": [
    "stacked_threes.ndim"
   ]
  },
  {
   "cell_type": "markdown",
   "metadata": {},
   "source": [
    "Now, computing the mean or \"ideal\" 3 & 7 (the one with average pixel values that we'll compare future images to) can be done by calculating the mean along *dimension 0* - the 6131 images.\n",
    "\n",
    "The image is dark where all the images agree it should be dark and blurry where the images disagree."
   ]
  },
  {
   "cell_type": "code",
   "execution_count": 29,
   "metadata": {},
   "outputs": [
    {
     "data": {
      "image/png": "[encoded data removed]",
      "text/plain": [
       "<Figure size 100x100 with 1 Axes>"
      ]
     },
     "metadata": {},
     "output_type": "display_data"
    },
    {
     "data": {
      "image/png": "[encoded data removed]",
      "text/plain": [
       "<Figure size 100x100 with 1 Axes>"
      ]
     },
     "metadata": {},
     "output_type": "display_data"
    }
   ],
   "source": [
    "mean_3 = stacked_threes.mean(0)\n",
    "mean_7 = stacked_sevens.mean(0)\n",
    "\n",
    "show_image(mean_3), show_image(mean_7);"
   ]
  },
  {
   "cell_type": "markdown",
   "metadata": {},
   "source": [
    "One of the problems we may encounter with taking the differences between the pixels of the sample image and the ideal image is that some differences will be positive and others will be negative - causing them to cancel out when averaged. \n",
    "\n",
    "As a result, there are two key ways of determining the distance a sample image has from our mean/ideal image:\n",
    "\n",
    "* **Mean Absolute Difference - L1 Norm**: Take the mean of the *absolute value* of differences of the pixels.\n",
    "* **Root Mean Squared Error (RMSE) - L2 Norm**: Take the mean of the *squared value* of differences of the pixels and then take the *square root* (to undo the squaring).  "
   ]
  },
  {
   "cell_type": "code",
   "execution_count": 31,
   "metadata": {},
   "outputs": [
    {
     "data": {
      "image/png": "[encoded data removed]",
      "text/plain": [
       "<Figure size 100x100 with 1 Axes>"
      ]
     },
     "metadata": {},
     "output_type": "display_data"
    }
   ],
   "source": [
    "# Sample Image\n",
    "sample_3 = stacked_threes[2]\n",
    "show_image(sample_3);"
   ]
  },
  {
   "cell_type": "code",
   "execution_count": 33,
   "metadata": {},
   "outputs": [
    {
     "data": {
      "text/plain": [
       "(tensor(0.1100), tensor(0.1980))"
      ]
     },
     "execution_count": 33,
     "metadata": {},
     "output_type": "execute_result"
    }
   ],
   "source": [
    "dist_3_abs = (sample_3 - mean_3).abs().mean()\n",
    "dist_3_sqr = ((sample_3 - mean_3)**2).mean().sqrt()\n",
    "\n",
    "dist_3_abs, dist_3_sqr"
   ]
  },
  {
   "cell_type": "code",
   "execution_count": 34,
   "metadata": {},
   "outputs": [
    {
     "data": {
      "text/plain": [
       "(tensor(0.1541), tensor(0.2974))"
      ]
     },
     "execution_count": 34,
     "metadata": {},
     "output_type": "execute_result"
    }
   ],
   "source": [
    "dist_7_abs = (sample_3 - mean_7).abs().mean()\n",
    "dist_7_sqr = ((sample_3 - mean_7)**2).mean().sqrt()\n",
    "\n",
    "dist_7_abs, dist_7_sqr"
   ]
  },
  {
   "cell_type": "markdown",
   "metadata": {},
   "source": [
    "It can be seen that in both cases above (L1 Norm and L2 Norm) that the values are lower against our ideal 3, indicating that the sample image is likely a 3.\n",
    "\n",
    "Instead of having to manually calculate L1 Norm and L2 Norm, PyTorch provides both of these as **loss functions** inside `torch.nn.functional` - often (and with fastai, automatically) imported as `F`.\n",
    "\n",
    "* `F.l1_loss()` = mean absolute difference\n",
    "* `F.mse_loss()` = mean squared error"
   ]
  },
  {
   "cell_type": "code",
   "execution_count": 35,
   "metadata": {},
   "outputs": [
    {
     "data": {
      "text/plain": [
       "(tensor(0.1541), tensor(0.0885))"
      ]
     },
     "execution_count": 35,
     "metadata": {},
     "output_type": "execute_result"
    }
   ],
   "source": [
    "F.l1_loss(sample_3.float(), mean_7), F.mse_loss(sample_3.float(), mean_7)"
   ]
  },
  {
   "cell_type": "markdown",
   "metadata": {},
   "source": [
    "## Side Notes: NumPy Arrays and PyTorch Tensors\n",
    "\n",
    "PyTorch tensors are used instead of NumPy arrays in deep learning since the latter does not support using the GPU or calculating gradients.\n",
    "\n",
    "Below is a summary of important functions and tricks to know for both NumPy and PyTorch:\n",
    "\n",
    "1. Creating an array or tensor"
   ]
  },
  {
   "cell_type": "code",
   "execution_count": 36,
   "metadata": {},
   "outputs": [
    {
     "data": {
      "text/plain": [
       "(array([[1, 2, 3],\n",
       "        [4, 5, 6]]),\n",
       " tensor([[1, 2, 3],\n",
       "         [4, 5, 6]]))"
      ]
     },
     "execution_count": 36,
     "metadata": {},
     "output_type": "execute_result"
    }
   ],
   "source": [
    "data = [[1, 2, 3], [4, 5, 6]]\n",
    "\n",
    "arr = array(data)\n",
    "tnsr = tensor(data)\n",
    "\n",
    "arr, tnsr"
   ]
  },
  {
   "cell_type": "markdown",
   "metadata": {},
   "source": [
    "The following operations will be shown only on a PyTorch tensor, but the *syntax is identical* for NumPy arrays.\n",
    "\n",
    "2. Selecting a row"
   ]
  },
  {
   "cell_type": "code",
   "execution_count": 37,
   "metadata": {},
   "outputs": [
    {
     "data": {
      "text/plain": [
       "tensor([4, 5, 6])"
      ]
     },
     "execution_count": 37,
     "metadata": {},
     "output_type": "execute_result"
    }
   ],
   "source": [
    "tnsr[1]"
   ]
  },
  {
   "cell_type": "markdown",
   "metadata": {},
   "source": [
    "3. Selecting a column, by using `:` to indicate all of the *first axis* (rows) - in this case, axis refers to the dimension"
   ]
  },
  {
   "cell_type": "code",
   "execution_count": 38,
   "metadata": {},
   "outputs": [
    {
     "data": {
      "text/plain": [
       "tensor([2, 5])"
      ]
     },
     "execution_count": 38,
     "metadata": {},
     "output_type": "execute_result"
    }
   ],
   "source": [
    "tnsr[:, 1]"
   ]
  },
  {
   "cell_type": "markdown",
   "metadata": {},
   "source": [
    "4. Combine these selections with Python slice syntax - `[start:end]` (where `end` is excluded)"
   ]
  },
  {
   "cell_type": "code",
   "execution_count": 44,
   "metadata": {},
   "outputs": [
    {
     "data": {
      "text/plain": [
       "tensor([4, 5, 6])"
      ]
     },
     "execution_count": 44,
     "metadata": {},
     "output_type": "execute_result"
    }
   ],
   "source": [
    "tnsr[1, :3]"
   ]
  },
  {
   "cell_type": "markdown",
   "metadata": {},
   "source": [
    "5. Standard operators such as `+`, `-`, `*`, and `/` all work"
   ]
  },
  {
   "cell_type": "code",
   "execution_count": 45,
   "metadata": {},
   "outputs": [
    {
     "data": {
      "text/plain": [
       "tensor([[2, 3, 4],\n",
       "        [5, 6, 7]])"
      ]
     },
     "execution_count": 45,
     "metadata": {},
     "output_type": "execute_result"
    }
   ],
   "source": [
    "tnsr+1"
   ]
  },
  {
   "cell_type": "markdown",
   "metadata": {},
   "source": [
    "6. Tensors have a type"
   ]
  },
  {
   "cell_type": "code",
   "execution_count": 46,
   "metadata": {},
   "outputs": [
    {
     "data": {
      "text/plain": [
       "'torch.LongTensor'"
      ]
     },
     "execution_count": 46,
     "metadata": {},
     "output_type": "execute_result"
    }
   ],
   "source": [
    "tnsr.type()"
   ]
  },
  {
   "cell_type": "markdown",
   "metadata": {},
   "source": [
    "7. The type of a tensor changes automatically from `int` to `float` when needed"
   ]
  },
  {
   "cell_type": "code",
   "execution_count": 50,
   "metadata": {},
   "outputs": [
    {
     "data": {
      "text/plain": [
       "tensor([[ 2.1000,  4.2000,  6.3000],\n",
       "        [ 8.4000, 10.5000, 12.6000]])"
      ]
     },
     "execution_count": 50,
     "metadata": {},
     "output_type": "execute_result"
    }
   ],
   "source": [
    "tnsr*2.1"
   ]
  },
  {
   "cell_type": "markdown",
   "metadata": {},
   "source": [
    "## Computing Metrics Using Broadcasting\n",
    "\n",
    "Back to the original MNIST problem, to know if the baseline model we created is any good we need some metric to measure success. \n",
    "\n",
    "We could use MSE or mean absolute error and take the average of them over the whole dataset - but these numbers are difficult to interpret for most. *Accuracy* is a far easier to understand metric for classification models.\n",
    "\n",
    "Let's test the model on the MNIST validation set (not really necessary because we don't have any trained components but just for the sake of best practice)."
   ]
  },
  {
   "cell_type": "code",
   "execution_count": 51,
   "metadata": {},
   "outputs": [
    {
     "data": {
      "text/plain": [
       "(torch.Size([1010, 28, 28]), torch.Size([1028, 28, 28]))"
      ]
     },
     "execution_count": 51,
     "metadata": {},
     "output_type": "execute_result"
    }
   ],
   "source": [
    "valid_3_tens = torch.stack([tensor(Image.open(o)) for o in (path/'valid'/'3').ls()])\n",
    "valid_3_tens = valid_3_tens.float()/255\n",
    "\n",
    "valid_7_tens = torch.stack([tensor(Image.open(o)) for o in (path/'valid'/'7').ls()])\n",
    "valid_7_tens = valid_7_tens.float()/255\n",
    "\n",
    "valid_3_tens.shape, valid_7_tens.shape"
   ]
  },
  {
   "cell_type": "markdown",
   "metadata": {},
   "source": [
    "Now we want to write a function that can test if a number is or is not 3 based on our mean/ideal image."
   ]
  },
  {
   "cell_type": "code",
   "execution_count": 71,
   "metadata": {},
   "outputs": [
    {
     "data": {
      "text/plain": [
       "tensor(0.1100)"
      ]
     },
     "execution_count": 71,
     "metadata": {},
     "output_type": "execute_result"
    }
   ],
   "source": [
    "def mnist_distance(a, b): return (a-b).abs().mean((-1, -2)) # (-1, -2) -> calculate the mean of the last two dimensions of the passed in tensors (the 28, 28 height/width pixels - not # of images)\n",
    "\n",
    "mnist_distance(sample_3, mean_3)"
   ]
  },
  {
   "cell_type": "markdown",
   "metadata": {},
   "source": [
    "Normally, you would have to write some type of loop to compare all the pixel values (28, 28) of all the images in our validation set against our `mean_3` image and see what the loss looks like for each of them. \n",
    "\n",
    "However, in PyTorch, you can actually pass in an entire rank-3 tensor into the `mnist_distance` function even though the function looks like it's only meant for comparing two individuals images of the *same size*."
   ]
  },
  {
   "cell_type": "code",
   "execution_count": 63,
   "metadata": {},
   "outputs": [
    {
     "data": {
      "text/plain": [
       "(torch.Size([1010, 28, 28]), torch.Size([28, 28]))"
      ]
     },
     "execution_count": 63,
     "metadata": {},
     "output_type": "execute_result"
    }
   ],
   "source": [
    "# Clearly, the shapes below don't match (rank-3 vs. rank-2)\n",
    "valid_3_tens.shape, mean_3.shape"
   ]
  },
  {
   "cell_type": "code",
   "execution_count": 62,
   "metadata": {},
   "outputs": [
    {
     "data": {
      "text/plain": [
       "(tensor([0.1358, 0.1117, 0.1361,  ..., 0.1114, 0.1087, 0.1242]),\n",
       " torch.Size([1010]))"
      ]
     },
     "execution_count": 62,
     "metadata": {},
     "output_type": "execute_result"
    }
   ],
   "source": [
    "# But the distance calculation still works!\n",
    "valid_3_dist = is_3(valid_3_tens, mean_3)\n",
    "\n",
    "valid_3_dist, valid_3_dist.shape"
   ]
  },
  {
   "cell_type": "markdown",
   "metadata": {},
   "source": [
    "PyTorch uses **broadcasting** - automatically expand the tensor with the smaller rank to have the same size as the one with the larger rank. \n",
    "\n",
    "If you look in the `mnist_distance` function, it is apparent that we're only comparing the height/width of images (`.mean(-1, -2)`); but, our validation set has 1010 of these 28x28 images. \n",
    "\n",
    "So, what PyTorch is basically doing is expanding our `mean_3` image into a rank-3 tensor (from it's current state as a rank-2 tensor) by treating it as if it were 1010 copies of the single image it is representing. This allows for to be subtracted from each image in the `valid_3_tens` tensor. \n",
    "\n",
    "Taking a look at the shape of the tensor during subtraction between `valid_3_tens` and `mean_3`, we can clearly see the effect of **broadcasting**."
   ]
  },
  {
   "cell_type": "code",
   "execution_count": 70,
   "metadata": {},
   "outputs": [
    {
     "data": {
      "text/plain": [
       "torch.Size([1010, 28, 28])"
      ]
     },
     "execution_count": 70,
     "metadata": {},
     "output_type": "execute_result"
    }
   ],
   "source": [
    "(valid_3_tens - mean_3).shape"
   ]
  },
  {
   "cell_type": "markdown",
   "metadata": {},
   "source": [
    "A few important points of **broadcasting**:\n",
    "\n",
    "* Does not actually copy `mean_3` 1010 times - it just *pretends* it's a tensor of that shape without allocating additional memory\n",
    "* Entire calculation happens in C (or, if using a GPU, in does the entire calculation in CUDA - the equivalent of C on the GPU) which is more than 10,000x faster (>1,000,000x on GPU)\n",
    "\n",
    "The `.abs` in our function is an elementwise operation (just like `+` or `-` on a tensor) so we get 1010 matrices of absolute values. Then, as explained, we use `mean((-1, -2))` on these 1010 matrices to get the mean of the horizontal and vertical dimensions of our image. \n",
    "\n",
    "We can define a function to validate if an image is the digit 3 by using the rule that if the distance to the ideal 3 is less than the distance to the ideal 7, then the image is a 3."
   ]
  },
  {
   "cell_type": "code",
   "execution_count": 72,
   "metadata": {},
   "outputs": [
    {
     "data": {
      "text/plain": [
       "(tensor(True), tensor(1.))"
      ]
     },
     "execution_count": 72,
     "metadata": {},
     "output_type": "execute_result"
    }
   ],
   "source": [
    "def is_3(x): return mnist_distance(x, mean_3) < mnist_distance(x, mean_7)\n",
    "\n",
    "# Show True and 1.0 (which means True)\n",
    "is_3(sample_3), is_3(sample_3).float()"
   ]
  },
  {
   "cell_type": "code",
   "execution_count": 73,
   "metadata": {},
   "outputs": [
    {
     "data": {
      "text/plain": [
       "tensor([True, True, True,  ..., True, True, True])"
      ]
     },
     "execution_count": 73,
     "metadata": {},
     "output_type": "execute_result"
    }
   ],
   "source": [
    "# Test on entire validation set for 3s\n",
    "is_3(valid_3_tens)"
   ]
  },
  {
   "cell_type": "code",
   "execution_count": 76,
   "metadata": {},
   "outputs": [
    {
     "data": {
      "text/plain": [
       "(tensor(0.9168), tensor(0.9854))"
      ]
     },
     "execution_count": 76,
     "metadata": {},
     "output_type": "execute_result"
    }
   ],
   "source": [
    "# Create an accuracy for 3s and 7s\n",
    "accuracy_3s = is_3(valid_3_tens).float().mean()\n",
    "accuracy_7s = 1 - is_3(valid_7_tens).float().mean()\n",
    "\n",
    "accuracy_3s, accuracy_7s"
   ]
  },
  {
   "cell_type": "code",
   "execution_count": 77,
   "metadata": {},
   "outputs": [
    {
     "data": {
      "text/plain": [
       "tensor(0.9511)"
      ]
     },
     "execution_count": 77,
     "metadata": {},
     "output_type": "execute_result"
    }
   ],
   "source": [
    "# Collective accuracy\n",
    "(accuracy_3s + accuracy_7s) / 2"
   ]
  },
  {
   "cell_type": "markdown",
   "metadata": {},
   "source": [
    "This model, which has no training, is getting around a collective accuracy of 95%!\n",
    "\n",
    "However, we're only testing it on differentiating between 3s and 7s, which is not a very hard task since they're extremely different numbers. \n",
    "\n",
    "We want a system that can actually **learn** - automatically modify itself to improve its performance."
   ]
  },
  {
   "cell_type": "markdown",
   "metadata": {},
   "source": [
    "## Stochastic Gradient Descent (SGD)\n",
    "\n",
    "Approach 1 around pixel similarity does not create a model that learns: no weight assignment or any way of improving based on tested effectiveness. \n",
    "\n",
    "A better approach is to have **weights** associated with each individual pixels, such that high weights are associated with pixels that are most likely to be black. In this scenario, pixels in the bottom right of a number like 7 are not likely to be activated so they should have a low weight for 7 but a high weight for an 8.\n",
    "\n",
    "A function to described the probability of a number being an 8 could look something like the following:\n",
    "\n",
    "`def probability_eight(x, w): return (x * w).sum()`\n",
    "\n",
    "Where `x` is the image represented as a vector (all rows in a line) and `w` are the weights represented as a vector. We want to update these weights iteratively and find the specific values for each weight value in the vector so that the model is the most accurate.  \n",
    "\n",
    "To make the `probability_eight()` function into a machine learning classifier, we must using **gradient descent**.\n",
    "\n",
    "### Gradient Descent \n",
    "\n",
    "1. **Initialize** the weights\n",
    "2. For each training image, use the weights to **predict** if the image is a 3 or 7\n",
    "3. Calculate how good this prediction was (**loss**)\n",
    "4. Calculate the **gradient** for each weight - understanding how changing that weight would change the loss\n",
    "5. **Step** (change) all the weights based on the gradient calculation\n",
    "6. Go to step 2 and repeat the process\n",
    "7. Iterate until satisfied with the training process\n",
    "\n",
    "There are different ways to execute these steps, here are some general principals to follow:\n",
    "\n",
    "* **Initialize**: The parameters should initialize to random values\n",
    "* **Loss**: Return a small number if the prediction was good and a large number if the prediction was bad\n",
    "* **Step**: Use the **gradient** calculation to determine in which direction to change a weight and by roughly how much. \n",
    "* **Stop**: Generally stop after the model's performance begins to decline\n",
    "\n",
    "### Gradient Descent w/ Quadratics\n",
    "\n",
    "To understand gradient descent, a sample of a quadratic function can be used. The quadratic will represent our loss function and `x` is a weight parameter."
   ]
  },
  {
   "cell_type": "code",
   "execution_count": 81,
   "metadata": {},
   "outputs": [
    {
     "data": {
      "image/png": "[encoded data removed]",
      "text/plain": [
       "<Figure size 600x400 with 1 Axes>"
      ]
     },
     "metadata": {},
     "output_type": "display_data"
    }
   ],
   "source": [
    "def f(x): return x**2\n",
    "\n",
    "plot_function(f, 'x', '$x^2$')"
   ]
  },
  {
   "cell_type": "markdown",
   "metadata": {},
   "source": [
    "Start with the first few steps of gradient descent - initializing a random parameter and calculating its loss"
   ]
  },
  {
   "cell_type": "code",
   "execution_count": 85,
   "metadata": {},
   "outputs": [
    {
     "data": {
      "image/png": "[encoded data removed]",
      "text/plain": [
       "<Figure size 600x400 with 1 Axes>"
      ]
     },
     "metadata": {},
     "output_type": "display_data"
    }
   ],
   "source": [
    "plot_function(f, 'x', '$x^2$')\n",
    "plt.scatter(-1.5, f(-1.5), color='red');"
   ]
  },
  {
   "attachments": {
    "image.png": {
     "image/png": "[encoded data removed]"
    }
   },
   "cell_type": "markdown",
   "metadata": {},
   "source": [
    "If we take a look at the slope of the parameter, we can see what happens if we increased or decreased (in this case, decreased) the value of our parameter.\n",
    "\n",
    "![image.png](attachment:image.png)\n",
    "\n",
    "We want to continually make small adjustments in the direction of this slope, calculate our loss again, and continually repeat until we get to the lowest point on our curve.\n",
    "\n",
    "### Calculating Gradients\n",
    "\n",
    "If we find the derivative of a certain weight, we can understand the rate of change at that specific point. From there, it's easy to calculate the gradient (the slope) and understand the direction it's pointing in and it's magnitude. \n",
    "\n",
    "Since our function will have many weights, when the derivative is calculated, you'll get back a gradient for every weight - to sort this out, you can use partial differentiation to find the gradient of that particular weight while holding the gradient of all the other ones constant. \n",
    "\n",
    "PyTorch calculates derivatives and gradients for us. Start by picking a tensor value for which we want gradients at:"
   ]
  },
  {
   "cell_type": "code",
   "execution_count": 86,
   "metadata": {},
   "outputs": [],
   "source": [
    "xt = tensor(3.).requires_grad_()"
   ]
  },
  {
   "cell_type": "markdown",
   "metadata": {},
   "source": [
    "`requires_grad_()` tells PyTorch that we want to calculate the gradient with respect to that variable at that value.\n",
    "\n",
    "**One important note -** in math or physics, the gradient of a function returns another function. However, in the context of deep learning, the **gradient** means the **value** of the function's derivative at a particular argument value. \n",
    "\n",
    "Let's now calculate our function at the `xt` value."
   ]
  },
  {
   "cell_type": "code",
   "execution_count": 87,
   "metadata": {},
   "outputs": [
    {
     "data": {
      "text/plain": [
       "tensor(9., grad_fn=<PowBackward0>)"
      ]
     },
     "execution_count": 87,
     "metadata": {},
     "output_type": "execute_result"
    }
   ],
   "source": [
    "yt = f(xt)\n",
    "yt"
   ]
  },
  {
   "cell_type": "markdown",
   "metadata": {},
   "source": [
    "PyTorch can now calculate the gradients for us"
   ]
  },
  {
   "cell_type": "code",
   "execution_count": 88,
   "metadata": {},
   "outputs": [],
   "source": [
    "yt.backward()"
   ]
  },
  {
   "cell_type": "markdown",
   "metadata": {},
   "source": [
    "**Note**: `backward` refers to **backpropogation** - the process of calculating the derivative of each layer during the backward pass of the network.\n",
    "\n",
    "Use `grad` to see the gradient value of `xt`."
   ]
  },
  {
   "cell_type": "code",
   "execution_count": 89,
   "metadata": {},
   "outputs": [
    {
     "data": {
      "text/plain": [
       "tensor(6.)"
      ]
     },
     "execution_count": 89,
     "metadata": {},
     "output_type": "execute_result"
    }
   ],
   "source": [
    "xt.grad"
   ]
  },
  {
   "cell_type": "markdown",
   "metadata": {},
   "source": [
    "We can do the same process but with a vector argument for the function to see how it works there"
   ]
  },
  {
   "cell_type": "code",
   "execution_count": 90,
   "metadata": {},
   "outputs": [
    {
     "data": {
      "text/plain": [
       "tensor([ 3.,  4., 20.], requires_grad=True)"
      ]
     },
     "execution_count": 90,
     "metadata": {},
     "output_type": "execute_result"
    }
   ],
   "source": [
    "xt = tensor([3., 4., 20.]).requires_grad_()\n",
    "xt"
   ]
  },
  {
   "cell_type": "code",
   "execution_count": 91,
   "metadata": {},
   "outputs": [
    {
     "data": {
      "text/plain": [
       "tensor(425., grad_fn=<SumBackward0>)"
      ]
     },
     "execution_count": 91,
     "metadata": {},
     "output_type": "execute_result"
    }
   ],
   "source": [
    "# Add sum to our quadratic function so it can take a vector (eg; rank 1 tensor) and return a scalar (eg; rank 0 tensor)\n",
    "def f(x): return (x**2).sum()\n",
    "\n",
    "yt = f(xt)\n",
    "yt"
   ]
  },
  {
   "cell_type": "markdown",
   "metadata": {},
   "source": [
    "We get the sum of each value in our tensor squared.\n",
    "\n",
    "Now, we can use `backward` to get the gradient value for each element in `xt`."
   ]
  },
  {
   "cell_type": "code",
   "execution_count": 92,
   "metadata": {},
   "outputs": [
    {
     "data": {
      "text/plain": [
       "tensor([ 6.,  8., 40.])"
      ]
     },
     "execution_count": 92,
     "metadata": {},
     "output_type": "execute_result"
    }
   ],
   "source": [
    "yt.backward()\n",
    "xt.grad"
   ]
  },
  {
   "cell_type": "markdown",
   "metadata": {},
   "source": []
  }
 ],
 "metadata": {
  "kernelspec": {
   "display_name": "fastai",
   "language": "python",
   "name": "python3"
  },
  "language_info": {
   "codemirror_mode": {
    "name": "ipython",
    "version": 3
   },
   "file_extension": ".py",
   "mimetype": "text/x-python",
   "name": "python",
   "nbconvert_exporter": "python",
   "pygments_lexer": "ipython3",
   "version": "3.11.7"
  }
 },
 "nbformat": 4,
 "nbformat_minor": 2
}
