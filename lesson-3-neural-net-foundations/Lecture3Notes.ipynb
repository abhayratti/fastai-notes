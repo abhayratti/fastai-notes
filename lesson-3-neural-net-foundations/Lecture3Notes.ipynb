{
 "cells": [
  {
   "cell_type": "markdown",
   "metadata": {},
   "source": [
    "# Making Your Neural Networks More Accurate\n",
    "\n",
    "Tips and best practices for increasing accuracy in models you have a V1 for. \n",
    "\n",
    "## Finding the Best Pre-Trained Model\n",
    "\n",
    "Jeremy Howard has a great chart which breaks down the top [Pytorch Image Model Architectures](https://www.kaggle.com/code/jhoward/which-image-models-are-best) which you can use to identify the best model for your needs. \n",
    "\n",
    "On the chart you'll notice that the resnet family (specifically resnet18 and resnet34) are not the most accurate on the ImageNet dataset but they're incredibly fast which allows for quick iteration speed with your models. The most important thing to do with your V1 is to get it trained and predicting as quickly as possible so that you can immediately start identifying improvements; hence the use of Resnet models. \n",
    "\n",
    "Ideally, once you find a family of models that seems to work really well on your problem, you can start to get even more specific and choose versions (maybe you need something faster or more accurate).\n",
    "\n",
    "Below is an example of you can use the timm library to find a list of all models from a particular family"
   ]
  },
  {
   "cell_type": "code",
   "execution_count": 3,
   "metadata": {},
   "outputs": [
    {
     "name": "stdout",
     "output_type": "stream",
     "text": [
      "Requirement already satisfied: fastbook in /home/abhay/miniconda3/envs/fastai/lib/python3.11/site-packages (0.0.29)\n",
      "Requirement already satisfied: pip in /home/abhay/miniconda3/envs/fastai/lib/python3.11/site-packages (from fastbook) (23.3.1)\n",
      "Requirement already satisfied: packaging in /home/abhay/miniconda3/envs/fastai/lib/python3.11/site-packages (from fastbook) (23.2)\n",
      "Requirement already satisfied: fastai>=2.6 in /home/abhay/miniconda3/envs/fastai/lib/python3.11/site-packages (from fastbook) (2.7.14)\n",
      "Requirement already satisfied: graphviz in /home/abhay/miniconda3/envs/fastai/lib/python3.11/site-packages (from fastbook) (0.20.1)\n",
      "Requirement already satisfied: pandas in /home/abhay/miniconda3/envs/fastai/lib/python3.11/site-packages (from fastbook) (2.2.0)\n",
      "Requirement already satisfied: requests in /home/abhay/miniconda3/envs/fastai/lib/python3.11/site-packages (from fastbook) (2.31.0)\n",
      "Requirement already satisfied: transformers in /home/abhay/miniconda3/envs/fastai/lib/python3.11/site-packages (from fastbook) (4.37.2)\n",
      "Requirement already satisfied: datasets in /home/abhay/miniconda3/envs/fastai/lib/python3.11/site-packages (from fastbook) (2.17.1)\n",
      "Requirement already satisfied: ipywidgets<8 in /home/abhay/miniconda3/envs/fastai/lib/python3.11/site-packages (from fastbook) (7.8.1)\n",
      "Requirement already satisfied: sentencepiece in /home/abhay/miniconda3/envs/fastai/lib/python3.11/site-packages (from fastbook) (0.2.0)\n",
      "Requirement already satisfied: fastdownload<2,>=0.0.5 in /home/abhay/miniconda3/envs/fastai/lib/python3.11/site-packages (from fastai>=2.6->fastbook) (0.0.7)\n",
      "Requirement already satisfied: fastcore<1.6,>=1.5.29 in /home/abhay/miniconda3/envs/fastai/lib/python3.11/site-packages (from fastai>=2.6->fastbook) (1.5.29)\n",
      "Requirement already satisfied: torchvision>=0.11 in /home/abhay/miniconda3/envs/fastai/lib/python3.11/site-packages (from fastai>=2.6->fastbook) (0.17.0)\n",
      "Requirement already satisfied: matplotlib in /home/abhay/miniconda3/envs/fastai/lib/python3.11/site-packages (from fastai>=2.6->fastbook) (3.8.3)\n",
      "Requirement already satisfied: pyyaml in /home/abhay/miniconda3/envs/fastai/lib/python3.11/site-packages (from fastai>=2.6->fastbook) (6.0.1)\n",
      "Requirement already satisfied: fastprogress>=0.2.4 in /home/abhay/miniconda3/envs/fastai/lib/python3.11/site-packages (from fastai>=2.6->fastbook) (1.0.3)\n",
      "Requirement already satisfied: pillow>=9.0.0 in /home/abhay/miniconda3/envs/fastai/lib/python3.11/site-packages (from fastai>=2.6->fastbook) (10.2.0)\n",
      "Requirement already satisfied: scikit-learn in /home/abhay/miniconda3/envs/fastai/lib/python3.11/site-packages (from fastai>=2.6->fastbook) (1.4.1.post1)\n",
      "Requirement already satisfied: scipy in /home/abhay/miniconda3/envs/fastai/lib/python3.11/site-packages (from fastai>=2.6->fastbook) (1.12.0)\n",
      "Requirement already satisfied: spacy<4 in /home/abhay/miniconda3/envs/fastai/lib/python3.11/site-packages (from fastai>=2.6->fastbook) (3.7.4)\n",
      "Requirement already satisfied: torch<2.3,>=1.10 in /home/abhay/miniconda3/envs/fastai/lib/python3.11/site-packages (from fastai>=2.6->fastbook) (2.2.0)\n",
      "Requirement already satisfied: comm>=0.1.3 in /home/abhay/miniconda3/envs/fastai/lib/python3.11/site-packages (from ipywidgets<8->fastbook) (0.2.1)\n",
      "Requirement already satisfied: ipython-genutils~=0.2.0 in /home/abhay/miniconda3/envs/fastai/lib/python3.11/site-packages (from ipywidgets<8->fastbook) (0.2.0)\n",
      "Requirement already satisfied: traitlets>=4.3.1 in /home/abhay/miniconda3/envs/fastai/lib/python3.11/site-packages (from ipywidgets<8->fastbook) (5.14.1)\n",
      "Requirement already satisfied: widgetsnbextension~=3.6.6 in /home/abhay/miniconda3/envs/fastai/lib/python3.11/site-packages (from ipywidgets<8->fastbook) (3.6.6)\n",
      "Requirement already satisfied: ipython>=4.0.0 in /home/abhay/miniconda3/envs/fastai/lib/python3.11/site-packages (from ipywidgets<8->fastbook) (8.21.0)\n",
      "Requirement already satisfied: jupyterlab-widgets<3,>=1.0.0 in /home/abhay/miniconda3/envs/fastai/lib/python3.11/site-packages (from ipywidgets<8->fastbook) (1.1.7)\n",
      "Requirement already satisfied: filelock in /home/abhay/miniconda3/envs/fastai/lib/python3.11/site-packages (from datasets->fastbook) (3.13.1)\n",
      "Requirement already satisfied: numpy>=1.17 in /home/abhay/miniconda3/envs/fastai/lib/python3.11/site-packages (from datasets->fastbook) (1.26.4)\n",
      "Requirement already satisfied: pyarrow>=12.0.0 in /home/abhay/miniconda3/envs/fastai/lib/python3.11/site-packages (from datasets->fastbook) (15.0.0)\n",
      "Requirement already satisfied: pyarrow-hotfix in /home/abhay/miniconda3/envs/fastai/lib/python3.11/site-packages (from datasets->fastbook) (0.6)\n",
      "Requirement already satisfied: dill<0.3.9,>=0.3.0 in /home/abhay/miniconda3/envs/fastai/lib/python3.11/site-packages (from datasets->fastbook) (0.3.8)\n",
      "Requirement already satisfied: tqdm>=4.62.1 in /home/abhay/miniconda3/envs/fastai/lib/python3.11/site-packages (from datasets->fastbook) (4.66.2)\n",
      "Requirement already satisfied: xxhash in /home/abhay/miniconda3/envs/fastai/lib/python3.11/site-packages (from datasets->fastbook) (3.4.1)\n",
      "Requirement already satisfied: multiprocess in /home/abhay/miniconda3/envs/fastai/lib/python3.11/site-packages (from datasets->fastbook) (0.70.16)\n",
      "Requirement already satisfied: fsspec<=2023.10.0,>=2023.1.0 in /home/abhay/miniconda3/envs/fastai/lib/python3.11/site-packages (from fsspec[http]<=2023.10.0,>=2023.1.0->datasets->fastbook) (2023.10.0)\n",
      "Requirement already satisfied: aiohttp in /home/abhay/miniconda3/envs/fastai/lib/python3.11/site-packages (from datasets->fastbook) (3.9.3)\n",
      "Requirement already satisfied: huggingface-hub>=0.19.4 in /home/abhay/miniconda3/envs/fastai/lib/python3.11/site-packages (from datasets->fastbook) (0.20.3)\n",
      "Requirement already satisfied: charset-normalizer<4,>=2 in /home/abhay/miniconda3/envs/fastai/lib/python3.11/site-packages (from requests->fastbook) (3.3.2)\n",
      "Requirement already satisfied: idna<4,>=2.5 in /home/abhay/miniconda3/envs/fastai/lib/python3.11/site-packages (from requests->fastbook) (3.6)\n",
      "Requirement already satisfied: urllib3<3,>=1.21.1 in /home/abhay/miniconda3/envs/fastai/lib/python3.11/site-packages (from requests->fastbook) (2.2.1)\n",
      "Requirement already satisfied: certifi>=2017.4.17 in /home/abhay/miniconda3/envs/fastai/lib/python3.11/site-packages (from requests->fastbook) (2024.2.2)\n",
      "Requirement already satisfied: python-dateutil>=2.8.2 in /home/abhay/miniconda3/envs/fastai/lib/python3.11/site-packages (from pandas->fastbook) (2.8.2)\n",
      "Requirement already satisfied: pytz>=2020.1 in /home/abhay/miniconda3/envs/fastai/lib/python3.11/site-packages (from pandas->fastbook) (2024.1)\n",
      "Requirement already satisfied: tzdata>=2022.7 in /home/abhay/miniconda3/envs/fastai/lib/python3.11/site-packages (from pandas->fastbook) (2024.1)\n",
      "Requirement already satisfied: regex!=2019.12.17 in /home/abhay/miniconda3/envs/fastai/lib/python3.11/site-packages (from transformers->fastbook) (2023.12.25)\n",
      "Requirement already satisfied: tokenizers<0.19,>=0.14 in /home/abhay/miniconda3/envs/fastai/lib/python3.11/site-packages (from transformers->fastbook) (0.15.2)\n",
      "Requirement already satisfied: safetensors>=0.4.1 in /home/abhay/miniconda3/envs/fastai/lib/python3.11/site-packages (from transformers->fastbook) (0.4.2)\n",
      "Requirement already satisfied: aiosignal>=1.1.2 in /home/abhay/miniconda3/envs/fastai/lib/python3.11/site-packages (from aiohttp->datasets->fastbook) (1.3.1)\n",
      "Requirement already satisfied: attrs>=17.3.0 in /home/abhay/miniconda3/envs/fastai/lib/python3.11/site-packages (from aiohttp->datasets->fastbook) (23.2.0)\n",
      "Requirement already satisfied: frozenlist>=1.1.1 in /home/abhay/miniconda3/envs/fastai/lib/python3.11/site-packages (from aiohttp->datasets->fastbook) (1.4.1)\n",
      "Requirement already satisfied: multidict<7.0,>=4.5 in /home/abhay/miniconda3/envs/fastai/lib/python3.11/site-packages (from aiohttp->datasets->fastbook) (6.0.5)\n",
      "Requirement already satisfied: yarl<2.0,>=1.0 in /home/abhay/miniconda3/envs/fastai/lib/python3.11/site-packages (from aiohttp->datasets->fastbook) (1.9.4)\n",
      "Requirement already satisfied: typing-extensions>=3.7.4.3 in /home/abhay/miniconda3/envs/fastai/lib/python3.11/site-packages (from huggingface-hub>=0.19.4->datasets->fastbook) (4.9.0)\n",
      "Requirement already satisfied: decorator in /home/abhay/miniconda3/envs/fastai/lib/python3.11/site-packages (from ipython>=4.0.0->ipywidgets<8->fastbook) (5.1.1)\n",
      "Requirement already satisfied: jedi>=0.16 in /home/abhay/miniconda3/envs/fastai/lib/python3.11/site-packages (from ipython>=4.0.0->ipywidgets<8->fastbook) (0.19.1)\n",
      "Requirement already satisfied: matplotlib-inline in /home/abhay/miniconda3/envs/fastai/lib/python3.11/site-packages (from ipython>=4.0.0->ipywidgets<8->fastbook) (0.1.6)\n",
      "Requirement already satisfied: prompt-toolkit<3.1.0,>=3.0.41 in /home/abhay/miniconda3/envs/fastai/lib/python3.11/site-packages (from ipython>=4.0.0->ipywidgets<8->fastbook) (3.0.42)\n",
      "Requirement already satisfied: pygments>=2.4.0 in /home/abhay/miniconda3/envs/fastai/lib/python3.11/site-packages (from ipython>=4.0.0->ipywidgets<8->fastbook) (2.17.2)\n",
      "Requirement already satisfied: stack-data in /home/abhay/miniconda3/envs/fastai/lib/python3.11/site-packages (from ipython>=4.0.0->ipywidgets<8->fastbook) (0.6.2)\n",
      "Requirement already satisfied: pexpect>4.3 in /home/abhay/miniconda3/envs/fastai/lib/python3.11/site-packages (from ipython>=4.0.0->ipywidgets<8->fastbook) (4.9.0)\n",
      "Requirement already satisfied: six>=1.5 in /home/abhay/miniconda3/envs/fastai/lib/python3.11/site-packages (from python-dateutil>=2.8.2->pandas->fastbook) (1.16.0)\n",
      "Requirement already satisfied: spacy-legacy<3.1.0,>=3.0.11 in /home/abhay/miniconda3/envs/fastai/lib/python3.11/site-packages (from spacy<4->fastai>=2.6->fastbook) (3.0.12)\n",
      "Requirement already satisfied: spacy-loggers<2.0.0,>=1.0.0 in /home/abhay/miniconda3/envs/fastai/lib/python3.11/site-packages (from spacy<4->fastai>=2.6->fastbook) (1.0.5)\n",
      "Requirement already satisfied: murmurhash<1.1.0,>=0.28.0 in /home/abhay/miniconda3/envs/fastai/lib/python3.11/site-packages (from spacy<4->fastai>=2.6->fastbook) (1.0.10)\n",
      "Requirement already satisfied: cymem<2.1.0,>=2.0.2 in /home/abhay/miniconda3/envs/fastai/lib/python3.11/site-packages (from spacy<4->fastai>=2.6->fastbook) (2.0.8)\n",
      "Requirement already satisfied: preshed<3.1.0,>=3.0.2 in /home/abhay/miniconda3/envs/fastai/lib/python3.11/site-packages (from spacy<4->fastai>=2.6->fastbook) (3.0.9)\n",
      "Requirement already satisfied: thinc<8.3.0,>=8.2.2 in /home/abhay/miniconda3/envs/fastai/lib/python3.11/site-packages (from spacy<4->fastai>=2.6->fastbook) (8.2.3)\n",
      "Requirement already satisfied: wasabi<1.2.0,>=0.9.1 in /home/abhay/miniconda3/envs/fastai/lib/python3.11/site-packages (from spacy<4->fastai>=2.6->fastbook) (1.1.2)\n",
      "Requirement already satisfied: srsly<3.0.0,>=2.4.3 in /home/abhay/miniconda3/envs/fastai/lib/python3.11/site-packages (from spacy<4->fastai>=2.6->fastbook) (2.4.8)\n",
      "Requirement already satisfied: catalogue<2.1.0,>=2.0.6 in /home/abhay/miniconda3/envs/fastai/lib/python3.11/site-packages (from spacy<4->fastai>=2.6->fastbook) (2.0.10)\n",
      "Requirement already satisfied: weasel<0.4.0,>=0.1.0 in /home/abhay/miniconda3/envs/fastai/lib/python3.11/site-packages (from spacy<4->fastai>=2.6->fastbook) (0.3.4)\n",
      "Requirement already satisfied: typer<0.10.0,>=0.3.0 in /home/abhay/miniconda3/envs/fastai/lib/python3.11/site-packages (from spacy<4->fastai>=2.6->fastbook) (0.9.0)\n",
      "Requirement already satisfied: smart-open<7.0.0,>=5.2.1 in /home/abhay/miniconda3/envs/fastai/lib/python3.11/site-packages (from spacy<4->fastai>=2.6->fastbook) (6.4.0)\n",
      "Requirement already satisfied: pydantic!=1.8,!=1.8.1,<3.0.0,>=1.7.4 in /home/abhay/miniconda3/envs/fastai/lib/python3.11/site-packages (from spacy<4->fastai>=2.6->fastbook) (2.6.1)\n",
      "Requirement already satisfied: jinja2 in /home/abhay/miniconda3/envs/fastai/lib/python3.11/site-packages (from spacy<4->fastai>=2.6->fastbook) (3.1.3)\n",
      "Requirement already satisfied: setuptools in /home/abhay/miniconda3/envs/fastai/lib/python3.11/site-packages (from spacy<4->fastai>=2.6->fastbook) (68.2.2)\n",
      "Requirement already satisfied: langcodes<4.0.0,>=3.2.0 in /home/abhay/miniconda3/envs/fastai/lib/python3.11/site-packages (from spacy<4->fastai>=2.6->fastbook) (3.3.0)\n",
      "Requirement already satisfied: sympy in /home/abhay/miniconda3/envs/fastai/lib/python3.11/site-packages (from torch<2.3,>=1.10->fastai>=2.6->fastbook) (1.12)\n",
      "Requirement already satisfied: networkx in /home/abhay/miniconda3/envs/fastai/lib/python3.11/site-packages (from torch<2.3,>=1.10->fastai>=2.6->fastbook) (3.2.1)\n",
      "Requirement already satisfied: notebook>=4.4.1 in /home/abhay/miniconda3/envs/fastai/lib/python3.11/site-packages (from widgetsnbextension~=3.6.6->ipywidgets<8->fastbook) (7.1.0)\n",
      "Requirement already satisfied: contourpy>=1.0.1 in /home/abhay/miniconda3/envs/fastai/lib/python3.11/site-packages (from matplotlib->fastai>=2.6->fastbook) (1.2.0)\n",
      "Requirement already satisfied: cycler>=0.10 in /home/abhay/miniconda3/envs/fastai/lib/python3.11/site-packages (from matplotlib->fastai>=2.6->fastbook) (0.12.1)\n",
      "Requirement already satisfied: fonttools>=4.22.0 in /home/abhay/miniconda3/envs/fastai/lib/python3.11/site-packages (from matplotlib->fastai>=2.6->fastbook) (4.49.0)\n",
      "Requirement already satisfied: kiwisolver>=1.3.1 in /home/abhay/miniconda3/envs/fastai/lib/python3.11/site-packages (from matplotlib->fastai>=2.6->fastbook) (1.4.5)\n",
      "Requirement already satisfied: pyparsing>=2.3.1 in /home/abhay/miniconda3/envs/fastai/lib/python3.11/site-packages (from matplotlib->fastai>=2.6->fastbook) (3.1.1)\n",
      "Requirement already satisfied: joblib>=1.2.0 in /home/abhay/miniconda3/envs/fastai/lib/python3.11/site-packages (from scikit-learn->fastai>=2.6->fastbook) (1.3.2)\n",
      "Requirement already satisfied: threadpoolctl>=2.0.0 in /home/abhay/miniconda3/envs/fastai/lib/python3.11/site-packages (from scikit-learn->fastai>=2.6->fastbook) (3.3.0)\n",
      "Requirement already satisfied: parso<0.9.0,>=0.8.3 in /home/abhay/miniconda3/envs/fastai/lib/python3.11/site-packages (from jedi>=0.16->ipython>=4.0.0->ipywidgets<8->fastbook) (0.8.3)\n",
      "Requirement already satisfied: jupyter-server<3,>=2.4.0 in /home/abhay/miniconda3/envs/fastai/lib/python3.11/site-packages (from notebook>=4.4.1->widgetsnbextension~=3.6.6->ipywidgets<8->fastbook) (2.12.5)\n",
      "Requirement already satisfied: jupyterlab-server<3,>=2.22.1 in /home/abhay/miniconda3/envs/fastai/lib/python3.11/site-packages (from notebook>=4.4.1->widgetsnbextension~=3.6.6->ipywidgets<8->fastbook) (2.25.3)\n",
      "Requirement already satisfied: jupyterlab<4.2,>=4.1.1 in /home/abhay/miniconda3/envs/fastai/lib/python3.11/site-packages (from notebook>=4.4.1->widgetsnbextension~=3.6.6->ipywidgets<8->fastbook) (4.1.1)\n",
      "Requirement already satisfied: notebook-shim<0.3,>=0.2 in /home/abhay/miniconda3/envs/fastai/lib/python3.11/site-packages (from notebook>=4.4.1->widgetsnbextension~=3.6.6->ipywidgets<8->fastbook) (0.2.4)\n",
      "Requirement already satisfied: tornado>=6.2.0 in /home/abhay/miniconda3/envs/fastai/lib/python3.11/site-packages (from notebook>=4.4.1->widgetsnbextension~=3.6.6->ipywidgets<8->fastbook) (6.4)\n",
      "Requirement already satisfied: ptyprocess>=0.5 in /home/abhay/miniconda3/envs/fastai/lib/python3.11/site-packages (from pexpect>4.3->ipython>=4.0.0->ipywidgets<8->fastbook) (0.7.0)\n",
      "Requirement already satisfied: wcwidth in /home/abhay/miniconda3/envs/fastai/lib/python3.11/site-packages (from prompt-toolkit<3.1.0,>=3.0.41->ipython>=4.0.0->ipywidgets<8->fastbook) (0.2.13)\n",
      "Requirement already satisfied: annotated-types>=0.4.0 in /home/abhay/miniconda3/envs/fastai/lib/python3.11/site-packages (from pydantic!=1.8,!=1.8.1,<3.0.0,>=1.7.4->spacy<4->fastai>=2.6->fastbook) (0.6.0)\n",
      "Requirement already satisfied: pydantic-core==2.16.2 in /home/abhay/miniconda3/envs/fastai/lib/python3.11/site-packages (from pydantic!=1.8,!=1.8.1,<3.0.0,>=1.7.4->spacy<4->fastai>=2.6->fastbook) (2.16.2)\n",
      "Requirement already satisfied: blis<0.8.0,>=0.7.8 in /home/abhay/miniconda3/envs/fastai/lib/python3.11/site-packages (from thinc<8.3.0,>=8.2.2->spacy<4->fastai>=2.6->fastbook) (0.7.11)\n",
      "Requirement already satisfied: confection<1.0.0,>=0.0.1 in /home/abhay/miniconda3/envs/fastai/lib/python3.11/site-packages (from thinc<8.3.0,>=8.2.2->spacy<4->fastai>=2.6->fastbook) (0.1.4)\n",
      "Requirement already satisfied: click<9.0.0,>=7.1.1 in /home/abhay/miniconda3/envs/fastai/lib/python3.11/site-packages (from typer<0.10.0,>=0.3.0->spacy<4->fastai>=2.6->fastbook) (8.1.7)\n",
      "Requirement already satisfied: cloudpathlib<0.17.0,>=0.7.0 in /home/abhay/miniconda3/envs/fastai/lib/python3.11/site-packages (from weasel<0.4.0,>=0.1.0->spacy<4->fastai>=2.6->fastbook) (0.16.0)\n",
      "Requirement already satisfied: MarkupSafe>=2.0 in /home/abhay/miniconda3/envs/fastai/lib/python3.11/site-packages (from jinja2->spacy<4->fastai>=2.6->fastbook) (2.1.3)\n",
      "Requirement already satisfied: executing>=1.2.0 in /home/abhay/miniconda3/envs/fastai/lib/python3.11/site-packages (from stack-data->ipython>=4.0.0->ipywidgets<8->fastbook) (2.0.1)\n",
      "Requirement already satisfied: asttokens>=2.1.0 in /home/abhay/miniconda3/envs/fastai/lib/python3.11/site-packages (from stack-data->ipython>=4.0.0->ipywidgets<8->fastbook) (2.4.1)\n",
      "Requirement already satisfied: pure-eval in /home/abhay/miniconda3/envs/fastai/lib/python3.11/site-packages (from stack-data->ipython>=4.0.0->ipywidgets<8->fastbook) (0.2.2)\n",
      "Requirement already satisfied: mpmath>=0.19 in /home/abhay/miniconda3/envs/fastai/lib/python3.11/site-packages (from sympy->torch<2.3,>=1.10->fastai>=2.6->fastbook) (1.3.0)\n",
      "Requirement already satisfied: anyio>=3.1.0 in /home/abhay/miniconda3/envs/fastai/lib/python3.11/site-packages (from jupyter-server<3,>=2.4.0->notebook>=4.4.1->widgetsnbextension~=3.6.6->ipywidgets<8->fastbook) (4.3.0)\n",
      "Requirement already satisfied: argon2-cffi in /home/abhay/miniconda3/envs/fastai/lib/python3.11/site-packages (from jupyter-server<3,>=2.4.0->notebook>=4.4.1->widgetsnbextension~=3.6.6->ipywidgets<8->fastbook) (23.1.0)\n",
      "Requirement already satisfied: jupyter-client>=7.4.4 in /home/abhay/miniconda3/envs/fastai/lib/python3.11/site-packages (from jupyter-server<3,>=2.4.0->notebook>=4.4.1->widgetsnbextension~=3.6.6->ipywidgets<8->fastbook) (8.6.0)\n",
      "Requirement already satisfied: jupyter-core!=5.0.*,>=4.12 in /home/abhay/miniconda3/envs/fastai/lib/python3.11/site-packages (from jupyter-server<3,>=2.4.0->notebook>=4.4.1->widgetsnbextension~=3.6.6->ipywidgets<8->fastbook) (5.7.1)\n",
      "Requirement already satisfied: jupyter-events>=0.9.0 in /home/abhay/miniconda3/envs/fastai/lib/python3.11/site-packages (from jupyter-server<3,>=2.4.0->notebook>=4.4.1->widgetsnbextension~=3.6.6->ipywidgets<8->fastbook) (0.9.0)\n",
      "Requirement already satisfied: jupyter-server-terminals in /home/abhay/miniconda3/envs/fastai/lib/python3.11/site-packages (from jupyter-server<3,>=2.4.0->notebook>=4.4.1->widgetsnbextension~=3.6.6->ipywidgets<8->fastbook) (0.5.2)\n",
      "Requirement already satisfied: nbconvert>=6.4.4 in /home/abhay/miniconda3/envs/fastai/lib/python3.11/site-packages (from jupyter-server<3,>=2.4.0->notebook>=4.4.1->widgetsnbextension~=3.6.6->ipywidgets<8->fastbook) (7.16.1)\n",
      "Requirement already satisfied: nbformat>=5.3.0 in /home/abhay/miniconda3/envs/fastai/lib/python3.11/site-packages (from jupyter-server<3,>=2.4.0->notebook>=4.4.1->widgetsnbextension~=3.6.6->ipywidgets<8->fastbook) (5.9.2)\n",
      "Requirement already satisfied: overrides in /home/abhay/miniconda3/envs/fastai/lib/python3.11/site-packages (from jupyter-server<3,>=2.4.0->notebook>=4.4.1->widgetsnbextension~=3.6.6->ipywidgets<8->fastbook) (7.7.0)\n",
      "Requirement already satisfied: prometheus-client in /home/abhay/miniconda3/envs/fastai/lib/python3.11/site-packages (from jupyter-server<3,>=2.4.0->notebook>=4.4.1->widgetsnbextension~=3.6.6->ipywidgets<8->fastbook) (0.20.0)\n",
      "Requirement already satisfied: pyzmq>=24 in /home/abhay/miniconda3/envs/fastai/lib/python3.11/site-packages (from jupyter-server<3,>=2.4.0->notebook>=4.4.1->widgetsnbextension~=3.6.6->ipywidgets<8->fastbook) (25.1.2)\n",
      "Requirement already satisfied: send2trash>=1.8.2 in /home/abhay/miniconda3/envs/fastai/lib/python3.11/site-packages (from jupyter-server<3,>=2.4.0->notebook>=4.4.1->widgetsnbextension~=3.6.6->ipywidgets<8->fastbook) (1.8.2)\n",
      "Requirement already satisfied: terminado>=0.8.3 in /home/abhay/miniconda3/envs/fastai/lib/python3.11/site-packages (from jupyter-server<3,>=2.4.0->notebook>=4.4.1->widgetsnbextension~=3.6.6->ipywidgets<8->fastbook) (0.18.0)\n",
      "Requirement already satisfied: websocket-client in /home/abhay/miniconda3/envs/fastai/lib/python3.11/site-packages (from jupyter-server<3,>=2.4.0->notebook>=4.4.1->widgetsnbextension~=3.6.6->ipywidgets<8->fastbook) (1.7.0)\n",
      "Requirement already satisfied: async-lru>=1.0.0 in /home/abhay/miniconda3/envs/fastai/lib/python3.11/site-packages (from jupyterlab<4.2,>=4.1.1->notebook>=4.4.1->widgetsnbextension~=3.6.6->ipywidgets<8->fastbook) (2.0.4)\n",
      "Requirement already satisfied: httpx>=0.25.0 in /home/abhay/miniconda3/envs/fastai/lib/python3.11/site-packages (from jupyterlab<4.2,>=4.1.1->notebook>=4.4.1->widgetsnbextension~=3.6.6->ipywidgets<8->fastbook) (0.26.0)\n",
      "Requirement already satisfied: ipykernel in /home/abhay/miniconda3/envs/fastai/lib/python3.11/site-packages (from jupyterlab<4.2,>=4.1.1->notebook>=4.4.1->widgetsnbextension~=3.6.6->ipywidgets<8->fastbook) (6.29.2)\n",
      "Requirement already satisfied: jupyter-lsp>=2.0.0 in /home/abhay/miniconda3/envs/fastai/lib/python3.11/site-packages (from jupyterlab<4.2,>=4.1.1->notebook>=4.4.1->widgetsnbextension~=3.6.6->ipywidgets<8->fastbook) (2.2.2)\n",
      "Requirement already satisfied: babel>=2.10 in /home/abhay/miniconda3/envs/fastai/lib/python3.11/site-packages (from jupyterlab-server<3,>=2.22.1->notebook>=4.4.1->widgetsnbextension~=3.6.6->ipywidgets<8->fastbook) (2.14.0)\n",
      "Requirement already satisfied: json5>=0.9.0 in /home/abhay/miniconda3/envs/fastai/lib/python3.11/site-packages (from jupyterlab-server<3,>=2.22.1->notebook>=4.4.1->widgetsnbextension~=3.6.6->ipywidgets<8->fastbook) (0.9.14)\n",
      "Requirement already satisfied: jsonschema>=4.18.0 in /home/abhay/miniconda3/envs/fastai/lib/python3.11/site-packages (from jupyterlab-server<3,>=2.22.1->notebook>=4.4.1->widgetsnbextension~=3.6.6->ipywidgets<8->fastbook) (4.21.1)\n",
      "Requirement already satisfied: sniffio>=1.1 in /home/abhay/miniconda3/envs/fastai/lib/python3.11/site-packages (from anyio>=3.1.0->jupyter-server<3,>=2.4.0->notebook>=4.4.1->widgetsnbextension~=3.6.6->ipywidgets<8->fastbook) (1.3.0)\n",
      "Requirement already satisfied: httpcore==1.* in /home/abhay/miniconda3/envs/fastai/lib/python3.11/site-packages (from httpx>=0.25.0->jupyterlab<4.2,>=4.1.1->notebook>=4.4.1->widgetsnbextension~=3.6.6->ipywidgets<8->fastbook) (1.0.3)\n",
      "Requirement already satisfied: h11<0.15,>=0.13 in /home/abhay/miniconda3/envs/fastai/lib/python3.11/site-packages (from httpcore==1.*->httpx>=0.25.0->jupyterlab<4.2,>=4.1.1->notebook>=4.4.1->widgetsnbextension~=3.6.6->ipywidgets<8->fastbook) (0.14.0)\n",
      "Requirement already satisfied: jsonschema-specifications>=2023.03.6 in /home/abhay/miniconda3/envs/fastai/lib/python3.11/site-packages (from jsonschema>=4.18.0->jupyterlab-server<3,>=2.22.1->notebook>=4.4.1->widgetsnbextension~=3.6.6->ipywidgets<8->fastbook) (2023.12.1)\n",
      "Requirement already satisfied: referencing>=0.28.4 in /home/abhay/miniconda3/envs/fastai/lib/python3.11/site-packages (from jsonschema>=4.18.0->jupyterlab-server<3,>=2.22.1->notebook>=4.4.1->widgetsnbextension~=3.6.6->ipywidgets<8->fastbook) (0.33.0)\n",
      "Requirement already satisfied: rpds-py>=0.7.1 in /home/abhay/miniconda3/envs/fastai/lib/python3.11/site-packages (from jsonschema>=4.18.0->jupyterlab-server<3,>=2.22.1->notebook>=4.4.1->widgetsnbextension~=3.6.6->ipywidgets<8->fastbook) (0.18.0)\n",
      "Requirement already satisfied: platformdirs>=2.5 in /home/abhay/miniconda3/envs/fastai/lib/python3.11/site-packages (from jupyter-core!=5.0.*,>=4.12->jupyter-server<3,>=2.4.0->notebook>=4.4.1->widgetsnbextension~=3.6.6->ipywidgets<8->fastbook) (4.2.0)\n",
      "Requirement already satisfied: python-json-logger>=2.0.4 in /home/abhay/miniconda3/envs/fastai/lib/python3.11/site-packages (from jupyter-events>=0.9.0->jupyter-server<3,>=2.4.0->notebook>=4.4.1->widgetsnbextension~=3.6.6->ipywidgets<8->fastbook) (2.0.7)\n",
      "Requirement already satisfied: rfc3339-validator in /home/abhay/miniconda3/envs/fastai/lib/python3.11/site-packages (from jupyter-events>=0.9.0->jupyter-server<3,>=2.4.0->notebook>=4.4.1->widgetsnbextension~=3.6.6->ipywidgets<8->fastbook) (0.1.4)\n",
      "Requirement already satisfied: rfc3986-validator>=0.1.1 in /home/abhay/miniconda3/envs/fastai/lib/python3.11/site-packages (from jupyter-events>=0.9.0->jupyter-server<3,>=2.4.0->notebook>=4.4.1->widgetsnbextension~=3.6.6->ipywidgets<8->fastbook) (0.1.1)\n",
      "Requirement already satisfied: beautifulsoup4 in /home/abhay/miniconda3/envs/fastai/lib/python3.11/site-packages (from nbconvert>=6.4.4->jupyter-server<3,>=2.4.0->notebook>=4.4.1->widgetsnbextension~=3.6.6->ipywidgets<8->fastbook) (4.12.3)\n",
      "Requirement already satisfied: bleach!=5.0.0 in /home/abhay/miniconda3/envs/fastai/lib/python3.11/site-packages (from nbconvert>=6.4.4->jupyter-server<3,>=2.4.0->notebook>=4.4.1->widgetsnbextension~=3.6.6->ipywidgets<8->fastbook) (6.1.0)\n",
      "Requirement already satisfied: defusedxml in /home/abhay/miniconda3/envs/fastai/lib/python3.11/site-packages (from nbconvert>=6.4.4->jupyter-server<3,>=2.4.0->notebook>=4.4.1->widgetsnbextension~=3.6.6->ipywidgets<8->fastbook) (0.7.1)\n",
      "Requirement already satisfied: jupyterlab-pygments in /home/abhay/miniconda3/envs/fastai/lib/python3.11/site-packages (from nbconvert>=6.4.4->jupyter-server<3,>=2.4.0->notebook>=4.4.1->widgetsnbextension~=3.6.6->ipywidgets<8->fastbook) (0.3.0)\n",
      "Requirement already satisfied: mistune<4,>=2.0.3 in /home/abhay/miniconda3/envs/fastai/lib/python3.11/site-packages (from nbconvert>=6.4.4->jupyter-server<3,>=2.4.0->notebook>=4.4.1->widgetsnbextension~=3.6.6->ipywidgets<8->fastbook) (3.0.2)\n",
      "Requirement already satisfied: nbclient>=0.5.0 in /home/abhay/miniconda3/envs/fastai/lib/python3.11/site-packages (from nbconvert>=6.4.4->jupyter-server<3,>=2.4.0->notebook>=4.4.1->widgetsnbextension~=3.6.6->ipywidgets<8->fastbook) (0.9.0)\n",
      "Requirement already satisfied: pandocfilters>=1.4.1 in /home/abhay/miniconda3/envs/fastai/lib/python3.11/site-packages (from nbconvert>=6.4.4->jupyter-server<3,>=2.4.0->notebook>=4.4.1->widgetsnbextension~=3.6.6->ipywidgets<8->fastbook) (1.5.1)\n",
      "Requirement already satisfied: tinycss2 in /home/abhay/miniconda3/envs/fastai/lib/python3.11/site-packages (from nbconvert>=6.4.4->jupyter-server<3,>=2.4.0->notebook>=4.4.1->widgetsnbextension~=3.6.6->ipywidgets<8->fastbook) (1.2.1)\n",
      "Requirement already satisfied: fastjsonschema in /home/abhay/miniconda3/envs/fastai/lib/python3.11/site-packages (from nbformat>=5.3.0->jupyter-server<3,>=2.4.0->notebook>=4.4.1->widgetsnbextension~=3.6.6->ipywidgets<8->fastbook) (2.19.1)\n",
      "Requirement already satisfied: argon2-cffi-bindings in /home/abhay/miniconda3/envs/fastai/lib/python3.11/site-packages (from argon2-cffi->jupyter-server<3,>=2.4.0->notebook>=4.4.1->widgetsnbextension~=3.6.6->ipywidgets<8->fastbook) (21.2.0)\n",
      "Requirement already satisfied: debugpy>=1.6.5 in /home/abhay/miniconda3/envs/fastai/lib/python3.11/site-packages (from ipykernel->jupyterlab<4.2,>=4.1.1->notebook>=4.4.1->widgetsnbextension~=3.6.6->ipywidgets<8->fastbook) (1.6.7)\n",
      "Requirement already satisfied: nest-asyncio in /home/abhay/miniconda3/envs/fastai/lib/python3.11/site-packages (from ipykernel->jupyterlab<4.2,>=4.1.1->notebook>=4.4.1->widgetsnbextension~=3.6.6->ipywidgets<8->fastbook) (1.6.0)\n",
      "Requirement already satisfied: psutil in /home/abhay/miniconda3/envs/fastai/lib/python3.11/site-packages (from ipykernel->jupyterlab<4.2,>=4.1.1->notebook>=4.4.1->widgetsnbextension~=3.6.6->ipywidgets<8->fastbook) (5.9.8)\n",
      "Requirement already satisfied: webencodings in /home/abhay/miniconda3/envs/fastai/lib/python3.11/site-packages (from bleach!=5.0.0->nbconvert>=6.4.4->jupyter-server<3,>=2.4.0->notebook>=4.4.1->widgetsnbextension~=3.6.6->ipywidgets<8->fastbook) (0.5.1)\n",
      "Requirement already satisfied: fqdn in /home/abhay/miniconda3/envs/fastai/lib/python3.11/site-packages (from jsonschema[format-nongpl]>=4.18.0->jupyter-events>=0.9.0->jupyter-server<3,>=2.4.0->notebook>=4.4.1->widgetsnbextension~=3.6.6->ipywidgets<8->fastbook) (1.5.1)\n",
      "Requirement already satisfied: isoduration in /home/abhay/miniconda3/envs/fastai/lib/python3.11/site-packages (from jsonschema[format-nongpl]>=4.18.0->jupyter-events>=0.9.0->jupyter-server<3,>=2.4.0->notebook>=4.4.1->widgetsnbextension~=3.6.6->ipywidgets<8->fastbook) (20.11.0)\n",
      "Requirement already satisfied: jsonpointer>1.13 in /home/abhay/miniconda3/envs/fastai/lib/python3.11/site-packages (from jsonschema[format-nongpl]>=4.18.0->jupyter-events>=0.9.0->jupyter-server<3,>=2.4.0->notebook>=4.4.1->widgetsnbextension~=3.6.6->ipywidgets<8->fastbook) (2.4)\n",
      "Requirement already satisfied: uri-template in /home/abhay/miniconda3/envs/fastai/lib/python3.11/site-packages (from jsonschema[format-nongpl]>=4.18.0->jupyter-events>=0.9.0->jupyter-server<3,>=2.4.0->notebook>=4.4.1->widgetsnbextension~=3.6.6->ipywidgets<8->fastbook) (1.3.0)\n",
      "Requirement already satisfied: webcolors>=1.11 in /home/abhay/miniconda3/envs/fastai/lib/python3.11/site-packages (from jsonschema[format-nongpl]>=4.18.0->jupyter-events>=0.9.0->jupyter-server<3,>=2.4.0->notebook>=4.4.1->widgetsnbextension~=3.6.6->ipywidgets<8->fastbook) (1.13)\n",
      "Requirement already satisfied: cffi>=1.0.1 in /home/abhay/miniconda3/envs/fastai/lib/python3.11/site-packages (from argon2-cffi-bindings->argon2-cffi->jupyter-server<3,>=2.4.0->notebook>=4.4.1->widgetsnbextension~=3.6.6->ipywidgets<8->fastbook) (1.16.0)\n",
      "Requirement already satisfied: soupsieve>1.2 in /home/abhay/miniconda3/envs/fastai/lib/python3.11/site-packages (from beautifulsoup4->nbconvert>=6.4.4->jupyter-server<3,>=2.4.0->notebook>=4.4.1->widgetsnbextension~=3.6.6->ipywidgets<8->fastbook) (2.5)\n",
      "Requirement already satisfied: pycparser in /home/abhay/miniconda3/envs/fastai/lib/python3.11/site-packages (from cffi>=1.0.1->argon2-cffi-bindings->argon2-cffi->jupyter-server<3,>=2.4.0->notebook>=4.4.1->widgetsnbextension~=3.6.6->ipywidgets<8->fastbook) (2.21)\n",
      "Requirement already satisfied: arrow>=0.15.0 in /home/abhay/miniconda3/envs/fastai/lib/python3.11/site-packages (from isoduration->jsonschema[format-nongpl]>=4.18.0->jupyter-events>=0.9.0->jupyter-server<3,>=2.4.0->notebook>=4.4.1->widgetsnbextension~=3.6.6->ipywidgets<8->fastbook) (1.3.0)\n",
      "Requirement already satisfied: types-python-dateutil>=2.8.10 in /home/abhay/miniconda3/envs/fastai/lib/python3.11/site-packages (from arrow>=0.15.0->isoduration->jsonschema[format-nongpl]>=4.18.0->jupyter-events>=0.9.0->jupyter-server<3,>=2.4.0->notebook>=4.4.1->widgetsnbextension~=3.6.6->ipywidgets<8->fastbook) (2.8.19.20240106)\n",
      "Note: you may need to restart the kernel to use updated packages.\n",
      "Requirement already satisfied: timm in /home/abhay/miniconda3/envs/fastai/lib/python3.11/site-packages (0.9.16)\n",
      "Requirement already satisfied: torch in /home/abhay/miniconda3/envs/fastai/lib/python3.11/site-packages (from timm) (2.2.0)\n",
      "Requirement already satisfied: torchvision in /home/abhay/miniconda3/envs/fastai/lib/python3.11/site-packages (from timm) (0.17.0)\n",
      "Requirement already satisfied: pyyaml in /home/abhay/miniconda3/envs/fastai/lib/python3.11/site-packages (from timm) (6.0.1)\n",
      "Requirement already satisfied: huggingface_hub in /home/abhay/miniconda3/envs/fastai/lib/python3.11/site-packages (from timm) (0.20.3)\n",
      "Requirement already satisfied: safetensors in /home/abhay/miniconda3/envs/fastai/lib/python3.11/site-packages (from timm) (0.4.2)\n",
      "Requirement already satisfied: filelock in /home/abhay/miniconda3/envs/fastai/lib/python3.11/site-packages (from huggingface_hub->timm) (3.13.1)\n",
      "Requirement already satisfied: fsspec>=2023.5.0 in /home/abhay/miniconda3/envs/fastai/lib/python3.11/site-packages (from huggingface_hub->timm) (2023.10.0)\n",
      "Requirement already satisfied: requests in /home/abhay/miniconda3/envs/fastai/lib/python3.11/site-packages (from huggingface_hub->timm) (2.31.0)\n",
      "Requirement already satisfied: tqdm>=4.42.1 in /home/abhay/miniconda3/envs/fastai/lib/python3.11/site-packages (from huggingface_hub->timm) (4.66.2)\n",
      "Requirement already satisfied: typing-extensions>=3.7.4.3 in /home/abhay/miniconda3/envs/fastai/lib/python3.11/site-packages (from huggingface_hub->timm) (4.9.0)\n",
      "Requirement already satisfied: packaging>=20.9 in /home/abhay/miniconda3/envs/fastai/lib/python3.11/site-packages (from huggingface_hub->timm) (23.2)\n",
      "Requirement already satisfied: sympy in /home/abhay/miniconda3/envs/fastai/lib/python3.11/site-packages (from torch->timm) (1.12)\n",
      "Requirement already satisfied: networkx in /home/abhay/miniconda3/envs/fastai/lib/python3.11/site-packages (from torch->timm) (3.2.1)\n",
      "Requirement already satisfied: jinja2 in /home/abhay/miniconda3/envs/fastai/lib/python3.11/site-packages (from torch->timm) (3.1.3)\n",
      "Requirement already satisfied: numpy in /home/abhay/miniconda3/envs/fastai/lib/python3.11/site-packages (from torchvision->timm) (1.26.4)\n",
      "Requirement already satisfied: pillow!=8.3.*,>=5.3.0 in /home/abhay/miniconda3/envs/fastai/lib/python3.11/site-packages (from torchvision->timm) (10.2.0)\n",
      "Requirement already satisfied: MarkupSafe>=2.0 in /home/abhay/miniconda3/envs/fastai/lib/python3.11/site-packages (from jinja2->torch->timm) (2.1.3)\n",
      "Requirement already satisfied: charset-normalizer<4,>=2 in /home/abhay/miniconda3/envs/fastai/lib/python3.11/site-packages (from requests->huggingface_hub->timm) (3.3.2)\n",
      "Requirement already satisfied: idna<4,>=2.5 in /home/abhay/miniconda3/envs/fastai/lib/python3.11/site-packages (from requests->huggingface_hub->timm) (3.6)\n",
      "Requirement already satisfied: urllib3<3,>=1.21.1 in /home/abhay/miniconda3/envs/fastai/lib/python3.11/site-packages (from requests->huggingface_hub->timm) (2.2.1)\n",
      "Requirement already satisfied: certifi>=2017.4.17 in /home/abhay/miniconda3/envs/fastai/lib/python3.11/site-packages (from requests->huggingface_hub->timm) (2024.2.2)\n",
      "Requirement already satisfied: mpmath>=0.19 in /home/abhay/miniconda3/envs/fastai/lib/python3.11/site-packages (from sympy->torch->timm) (1.3.0)\n",
      "Note: you may need to restart the kernel to use updated packages.\n"
     ]
    }
   ],
   "source": [
    "%pip install fastbook\n",
    "%pip install timm"
   ]
  },
  {
   "cell_type": "code",
   "execution_count": 4,
   "metadata": {},
   "outputs": [],
   "source": [
    "from fastai.vision.all import *\n",
    "from fastbook import *\n",
    "import timm"
   ]
  },
  {
   "cell_type": "code",
   "execution_count": 5,
   "metadata": {},
   "outputs": [
    {
     "data": {
      "text/plain": [
       "['resnet10t',\n",
       " 'resnet14t',\n",
       " 'resnet18',\n",
       " 'resnet18d',\n",
       " 'resnet26',\n",
       " 'resnet26d',\n",
       " 'resnet26t',\n",
       " 'resnet32ts',\n",
       " 'resnet33ts',\n",
       " 'resnet34',\n",
       " 'resnet34d',\n",
       " 'resnet50',\n",
       " 'resnet50_gn',\n",
       " 'resnet50c',\n",
       " 'resnet50d',\n",
       " 'resnet50s',\n",
       " 'resnet50t',\n",
       " 'resnet51q',\n",
       " 'resnet61q',\n",
       " 'resnet101',\n",
       " 'resnet101c',\n",
       " 'resnet101d',\n",
       " 'resnet101s',\n",
       " 'resnet152',\n",
       " 'resnet152c',\n",
       " 'resnet152d',\n",
       " 'resnet152s',\n",
       " 'resnet200',\n",
       " 'resnet200d',\n",
       " 'resnetaa34d',\n",
       " 'resnetaa50',\n",
       " 'resnetaa50d',\n",
       " 'resnetaa101d',\n",
       " 'resnetblur18',\n",
       " 'resnetblur50',\n",
       " 'resnetblur50d',\n",
       " 'resnetblur101d',\n",
       " 'resnetrs50',\n",
       " 'resnetrs101',\n",
       " 'resnetrs152',\n",
       " 'resnetrs200',\n",
       " 'resnetrs270',\n",
       " 'resnetrs350',\n",
       " 'resnetrs420',\n",
       " 'resnetv2_50',\n",
       " 'resnetv2_50d',\n",
       " 'resnetv2_50d_evos',\n",
       " 'resnetv2_50d_frn',\n",
       " 'resnetv2_50d_gn',\n",
       " 'resnetv2_50t',\n",
       " 'resnetv2_50x1_bit',\n",
       " 'resnetv2_50x3_bit',\n",
       " 'resnetv2_101',\n",
       " 'resnetv2_101d',\n",
       " 'resnetv2_101x1_bit',\n",
       " 'resnetv2_101x3_bit',\n",
       " 'resnetv2_152',\n",
       " 'resnetv2_152d',\n",
       " 'resnetv2_152x2_bit',\n",
       " 'resnetv2_152x4_bit']"
      ]
     },
     "execution_count": 5,
     "metadata": {},
     "output_type": "execute_result"
    }
   ],
   "source": [
    "timm.list_models('resnet*')"
   ]
  },
  {
   "cell_type": "markdown",
   "metadata": {},
   "source": [
    "**Note:** *If the model you're using is from timm and not fastai, you have to pass it to your learner as a* **string** *instead of a variable. Something like the below*"
   ]
  },
  {
   "cell_type": "code",
   "execution_count": 6,
   "metadata": {},
   "outputs": [],
   "source": [
    "# learn = vision_learner(dls, 'convnext_tiny_in22k', metrics=error_rate).to_fp16()"
   ]
  },
  {
   "cell_type": "markdown",
   "metadata": {},
   "source": [
    "# Neural Network Foundations\n",
    "\n",
    "Understanding how a neural network functions from first-principles.\n",
    "\n",
    "## What's Inside an Image Model?\n",
    "\n",
    "You can use fastai to see the exact architecture of your image model, breaking down all of the layers within the image model you're using.\n"
   ]
  },
  {
   "cell_type": "code",
   "execution_count": 7,
   "metadata": {},
   "outputs": [
    {
     "data": {
      "text/plain": [
       "Sequential(\n",
       "  (0): Sequential(\n",
       "    (0): Conv2d(3, 64, kernel_size=(7, 7), stride=(2, 2), padding=(3, 3), bias=False)\n",
       "    (1): BatchNorm2d(64, eps=1e-05, momentum=0.1, affine=True, track_running_stats=True)\n",
       "    (2): ReLU(inplace=True)\n",
       "    (3): MaxPool2d(kernel_size=3, stride=2, padding=1, dilation=1, ceil_mode=False)\n",
       "    (4): Sequential(\n",
       "      (0): BasicBlock(\n",
       "        (conv1): Conv2d(64, 64, kernel_size=(3, 3), stride=(1, 1), padding=(1, 1), bias=False)\n",
       "        (bn1): BatchNorm2d(64, eps=1e-05, momentum=0.1, affine=True, track_running_stats=True)\n",
       "        (relu): ReLU(inplace=True)\n",
       "        (conv2): Conv2d(64, 64, kernel_size=(3, 3), stride=(1, 1), padding=(1, 1), bias=False)\n",
       "        (bn2): BatchNorm2d(64, eps=1e-05, momentum=0.1, affine=True, track_running_stats=True)\n",
       "      )\n",
       "      (1): BasicBlock(\n",
       "        (conv1): Conv2d(64, 64, kernel_size=(3, 3), stride=(1, 1), padding=(1, 1), bias=False)\n",
       "        (bn1): BatchNorm2d(64, eps=1e-05, momentum=0.1, affine=True, track_running_stats=True)\n",
       "        (relu): ReLU(inplace=True)\n",
       "        (conv2): Conv2d(64, 64, kernel_size=(3, 3), stride=(1, 1), padding=(1, 1), bias=False)\n",
       "        (bn2): BatchNorm2d(64, eps=1e-05, momentum=0.1, affine=True, track_running_stats=True)\n",
       "      )\n",
       "    )\n",
       "    (5): Sequential(\n",
       "      (0): BasicBlock(\n",
       "        (conv1): Conv2d(64, 128, kernel_size=(3, 3), stride=(2, 2), padding=(1, 1), bias=False)\n",
       "        (bn1): BatchNorm2d(128, eps=1e-05, momentum=0.1, affine=True, track_running_stats=True)\n",
       "        (relu): ReLU(inplace=True)\n",
       "        (conv2): Conv2d(128, 128, kernel_size=(3, 3), stride=(1, 1), padding=(1, 1), bias=False)\n",
       "        (bn2): BatchNorm2d(128, eps=1e-05, momentum=0.1, affine=True, track_running_stats=True)\n",
       "        (downsample): Sequential(\n",
       "          (0): Conv2d(64, 128, kernel_size=(1, 1), stride=(2, 2), bias=False)\n",
       "          (1): BatchNorm2d(128, eps=1e-05, momentum=0.1, affine=True, track_running_stats=True)\n",
       "        )\n",
       "      )\n",
       "      (1): BasicBlock(\n",
       "        (conv1): Conv2d(128, 128, kernel_size=(3, 3), stride=(1, 1), padding=(1, 1), bias=False)\n",
       "        (bn1): BatchNorm2d(128, eps=1e-05, momentum=0.1, affine=True, track_running_stats=True)\n",
       "        (relu): ReLU(inplace=True)\n",
       "        (conv2): Conv2d(128, 128, kernel_size=(3, 3), stride=(1, 1), padding=(1, 1), bias=False)\n",
       "        (bn2): BatchNorm2d(128, eps=1e-05, momentum=0.1, affine=True, track_running_stats=True)\n",
       "      )\n",
       "    )\n",
       "    (6): Sequential(\n",
       "      (0): BasicBlock(\n",
       "        (conv1): Conv2d(128, 256, kernel_size=(3, 3), stride=(2, 2), padding=(1, 1), bias=False)\n",
       "        (bn1): BatchNorm2d(256, eps=1e-05, momentum=0.1, affine=True, track_running_stats=True)\n",
       "        (relu): ReLU(inplace=True)\n",
       "        (conv2): Conv2d(256, 256, kernel_size=(3, 3), stride=(1, 1), padding=(1, 1), bias=False)\n",
       "        (bn2): BatchNorm2d(256, eps=1e-05, momentum=0.1, affine=True, track_running_stats=True)\n",
       "        (downsample): Sequential(\n",
       "          (0): Conv2d(128, 256, kernel_size=(1, 1), stride=(2, 2), bias=False)\n",
       "          (1): BatchNorm2d(256, eps=1e-05, momentum=0.1, affine=True, track_running_stats=True)\n",
       "        )\n",
       "      )\n",
       "      (1): BasicBlock(\n",
       "        (conv1): Conv2d(256, 256, kernel_size=(3, 3), stride=(1, 1), padding=(1, 1), bias=False)\n",
       "        (bn1): BatchNorm2d(256, eps=1e-05, momentum=0.1, affine=True, track_running_stats=True)\n",
       "        (relu): ReLU(inplace=True)\n",
       "        (conv2): Conv2d(256, 256, kernel_size=(3, 3), stride=(1, 1), padding=(1, 1), bias=False)\n",
       "        (bn2): BatchNorm2d(256, eps=1e-05, momentum=0.1, affine=True, track_running_stats=True)\n",
       "      )\n",
       "    )\n",
       "    (7): Sequential(\n",
       "      (0): BasicBlock(\n",
       "        (conv1): Conv2d(256, 512, kernel_size=(3, 3), stride=(2, 2), padding=(1, 1), bias=False)\n",
       "        (bn1): BatchNorm2d(512, eps=1e-05, momentum=0.1, affine=True, track_running_stats=True)\n",
       "        (relu): ReLU(inplace=True)\n",
       "        (conv2): Conv2d(512, 512, kernel_size=(3, 3), stride=(1, 1), padding=(1, 1), bias=False)\n",
       "        (bn2): BatchNorm2d(512, eps=1e-05, momentum=0.1, affine=True, track_running_stats=True)\n",
       "        (downsample): Sequential(\n",
       "          (0): Conv2d(256, 512, kernel_size=(1, 1), stride=(2, 2), bias=False)\n",
       "          (1): BatchNorm2d(512, eps=1e-05, momentum=0.1, affine=True, track_running_stats=True)\n",
       "        )\n",
       "      )\n",
       "      (1): BasicBlock(\n",
       "        (conv1): Conv2d(512, 512, kernel_size=(3, 3), stride=(1, 1), padding=(1, 1), bias=False)\n",
       "        (bn1): BatchNorm2d(512, eps=1e-05, momentum=0.1, affine=True, track_running_stats=True)\n",
       "        (relu): ReLU(inplace=True)\n",
       "        (conv2): Conv2d(512, 512, kernel_size=(3, 3), stride=(1, 1), padding=(1, 1), bias=False)\n",
       "        (bn2): BatchNorm2d(512, eps=1e-05, momentum=0.1, affine=True, track_running_stats=True)\n",
       "      )\n",
       "    )\n",
       "  )\n",
       "  (1): Sequential(\n",
       "    (0): AdaptiveConcatPool2d(\n",
       "      (ap): AdaptiveAvgPool2d(output_size=1)\n",
       "      (mp): AdaptiveMaxPool2d(output_size=1)\n",
       "    )\n",
       "    (1): fastai.layers.Flatten(full=False)\n",
       "    (2): BatchNorm1d(1024, eps=1e-05, momentum=0.1, affine=True, track_running_stats=True)\n",
       "    (3): Dropout(p=0.25, inplace=False)\n",
       "    (4): Linear(in_features=1024, out_features=512, bias=False)\n",
       "    (5): ReLU(inplace=True)\n",
       "    (6): BatchNorm1d(512, eps=1e-05, momentum=0.1, affine=True, track_running_stats=True)\n",
       "    (7): Dropout(p=0.5, inplace=False)\n",
       "    (8): Linear(in_features=512, out_features=3, bias=False)\n",
       "  )\n",
       ")"
      ]
     },
     "execution_count": 7,
     "metadata": {},
     "output_type": "execute_result"
    }
   ],
   "source": [
    "learner = load_learner('export.pkl')\n",
    "\n",
    "learner.model"
   ]
  },
  {
   "cell_type": "markdown",
   "metadata": {},
   "source": [
    "You can then view the parameters of a specific layer within this architecture"
   ]
  },
  {
   "cell_type": "code",
   "execution_count": 8,
   "metadata": {},
   "outputs": [
    {
     "data": {
      "text/plain": [
       "[Parameter containing:\n",
       " tensor([[[[ 5.7556e-02, -9.5150e-02, -2.0274e-02],\n",
       "           [-7.4585e-02, -7.9932e-01, -2.1283e-01],\n",
       "           [ 6.5546e-02, -9.6568e-02, -1.2133e-02]],\n",
       " \n",
       "          [[-7.0224e-03,  1.4234e-02,  5.5583e-04],\n",
       "           [ 4.1227e-02, -1.6126e-01, -2.3190e-02],\n",
       "           [ 3.2681e-03,  7.1688e-03,  7.1697e-02]],\n",
       " \n",
       "          [[-2.3627e-09, -3.9270e-08, -3.2971e-08],\n",
       "           [ 2.1737e-08,  8.3299e-09,  1.2543e-08],\n",
       "           [ 1.1381e-08,  8.8095e-09,  1.5506e-08]],\n",
       " \n",
       "          ...,\n",
       " \n",
       "          [[-3.6952e-02,  1.8222e-02, -2.9359e-02],\n",
       "           [-9.8648e-02, -4.3698e-02, -5.2732e-02],\n",
       "           [-7.9676e-02,  2.9345e-02,  4.1227e-03]],\n",
       " \n",
       "          [[ 1.6907e-02,  1.3949e-02,  9.6569e-03],\n",
       "           [ 1.4261e-02, -6.9834e-04, -2.2093e-02],\n",
       "           [ 1.2377e-02,  3.5445e-02, -2.2320e-02]],\n",
       " \n",
       "          [[-2.2644e-02, -2.5352e-02, -2.3525e-02],\n",
       "           [ 6.0842e-02, -9.6794e-02,  2.4092e-02],\n",
       "           [-1.2772e-02,  9.2238e-02,  4.0385e-03]]],\n",
       " \n",
       " \n",
       "         [[[ 2.2206e-02,  4.2196e-02, -1.6420e-02],\n",
       "           [-2.9631e-02,  5.6893e-02,  2.5486e-02],\n",
       "           [ 4.4306e-03,  5.1234e-02,  1.0477e-02]],\n",
       " \n",
       "          [[ 2.5377e-02,  5.4379e-02,  5.3873e-02],\n",
       "           [-2.8317e-02, -2.0140e-01, -5.6429e-02],\n",
       "           [ 5.6781e-02,  7.4178e-02,  2.1567e-02]],\n",
       " \n",
       "          [[-3.1458e-08,  3.5335e-08,  5.3791e-08],\n",
       "           [-2.6896e-08,  5.1529e-08,  5.4479e-08],\n",
       "           [-3.8487e-08, -1.1234e-08, -7.5787e-09]],\n",
       " \n",
       "          ...,\n",
       " \n",
       "          [[-1.2752e-01,  4.3573e-02, -6.5601e-02],\n",
       "           [-6.0429e-02,  1.5995e-01, -7.6960e-03],\n",
       "           [-9.4151e-02,  5.0814e-02, -7.8120e-02]],\n",
       " \n",
       "          [[-3.3294e-02,  1.6786e-03, -8.8553e-03],\n",
       "           [ 1.5549e-02, -5.8274e-02, -2.7467e-02],\n",
       "           [ 1.3112e-02, -3.0278e-02, -2.1945e-03]],\n",
       " \n",
       "          [[-4.2076e-03,  3.4538e-02,  3.8084e-03],\n",
       "           [ 5.4339e-02, -1.2445e-02,  3.2870e-02],\n",
       "           [ 2.6372e-04,  1.6078e-02,  1.2765e-01]]],\n",
       " \n",
       " \n",
       "         [[[-3.5247e-02,  8.0831e-03,  2.0353e-02],\n",
       "           [ 1.7283e-02, -2.4377e-02, -1.8442e-04],\n",
       "           [-3.1903e-04,  2.7963e-02, -2.4344e-03]],\n",
       " \n",
       "          [[-2.3723e-02, -3.1793e-03, -5.6928e-03],\n",
       "           [-1.1607e-02,  1.7150e-03,  2.1088e-02],\n",
       "           [ 4.3198e-03, -4.6480e-02, -7.2935e-02]],\n",
       " \n",
       "          [[ 3.1002e-08,  5.3568e-08,  3.1873e-08],\n",
       "           [-1.6063e-08, -1.8072e-08, -1.9507e-09],\n",
       "           [-5.8339e-08, -4.5366e-08, -1.2395e-08]],\n",
       " \n",
       "          ...,\n",
       " \n",
       "          [[-1.9960e-03, -2.6833e-02, -4.3779e-02],\n",
       "           [ 2.4480e-02, -2.8431e-02, -3.5925e-02],\n",
       "           [-1.9472e-04, -2.4683e-02, -2.0113e-02]],\n",
       " \n",
       "          [[ 2.1552e-02,  2.2807e-03, -2.5819e-02],\n",
       "           [ 2.3258e-02, -7.9504e-03, -2.0886e-03],\n",
       "           [-5.7256e-03, -2.6961e-02, -1.4439e-02]],\n",
       " \n",
       "          [[-1.9661e-02,  2.7925e-02, -2.0007e-02],\n",
       "           [ 6.3198e-02, -3.9101e-02, -3.3289e-03],\n",
       "           [-2.7435e-02,  1.1389e-02, -3.1781e-03]]],\n",
       " \n",
       " \n",
       "         ...,\n",
       " \n",
       " \n",
       "         [[[ 4.3238e-03, -7.7300e-03, -6.4981e-02],\n",
       "           [ 1.3831e-02, -2.2823e-02, -4.6501e-02],\n",
       "           [ 2.7817e-02,  1.6103e-02, -1.3350e-02]],\n",
       " \n",
       "          [[ 4.7371e-02, -2.4998e-02, -2.7619e-02],\n",
       "           [ 7.0074e-02,  4.1813e-03, -1.0807e-01],\n",
       "           [ 1.7564e-02,  4.5681e-02,  7.9029e-03]],\n",
       " \n",
       "          [[ 2.6680e-09,  2.7671e-08,  2.4702e-08],\n",
       "           [ 6.3905e-09,  4.1020e-08,  3.3631e-08],\n",
       "           [ 5.8334e-09,  1.3334e-08,  9.6603e-09]],\n",
       " \n",
       "          ...,\n",
       " \n",
       "          [[ 4.5995e-03,  4.7066e-02, -8.6981e-03],\n",
       "           [-6.2790e-03,  5.9583e-02,  5.8732e-03],\n",
       "           [-2.0213e-02,  4.3307e-02,  4.5283e-03]],\n",
       " \n",
       "          [[ 1.1106e-03, -5.7595e-03, -6.8558e-03],\n",
       "           [ 6.0457e-03,  7.3192e-03, -1.1803e-02],\n",
       "           [-1.1512e-03,  5.1762e-03, -1.9881e-02]],\n",
       " \n",
       "          [[ 1.7515e-02,  4.4607e-02, -2.6594e-02],\n",
       "           [ 2.2107e-02,  4.5852e-02,  2.3309e-02],\n",
       "           [ 1.8047e-02,  5.9676e-02,  1.7084e-02]]],\n",
       " \n",
       " \n",
       "         [[[-2.9118e-02,  3.4645e-03, -1.7509e-02],\n",
       "           [-2.3645e-02,  2.2762e-02, -3.8275e-02],\n",
       "           [-1.0312e-02, -4.3870e-03, -2.3612e-02]],\n",
       " \n",
       "          [[-4.9624e-02, -3.2814e-03, -1.5345e-02],\n",
       "           [-1.3520e-02,  5.4841e-02,  1.1180e-02],\n",
       "           [-2.3549e-02, -2.8523e-02, -6.6400e-02]],\n",
       " \n",
       "          [[-4.9804e-08, -2.8211e-08, -2.0583e-08],\n",
       "           [-5.2389e-08, -2.8522e-08, -3.5099e-08],\n",
       "           [-3.2170e-08, -3.4110e-08, -4.3153e-08]],\n",
       " \n",
       "          ...,\n",
       " \n",
       "          [[ 3.4751e-03,  2.6543e-02, -1.1214e-02],\n",
       "           [ 7.1378e-03,  3.7912e-02, -3.2503e-02],\n",
       "           [ 4.1410e-02,  3.2326e-02,  2.7911e-03]],\n",
       " \n",
       "          [[-6.6101e-03,  1.6461e-02,  2.1800e-02],\n",
       "           [-1.2310e-02,  2.2296e-02,  1.2649e-02],\n",
       "           [-9.0093e-03,  1.1722e-03, -5.2488e-03]],\n",
       " \n",
       "          [[-2.5277e-03,  7.2678e-02, -7.8129e-03],\n",
       "           [-4.2219e-02,  7.9727e-02, -2.7760e-02],\n",
       "           [ 4.6642e-03, -5.6633e-02, -8.2284e-02]]],\n",
       " \n",
       " \n",
       "         [[[ 5.2197e-02,  3.4981e-03, -3.3134e-02],\n",
       "           [ 3.1020e-02,  1.6187e-02,  1.7296e-02],\n",
       "           [ 1.4420e-02,  2.4271e-02, -1.9838e-03]],\n",
       " \n",
       "          [[-2.4734e-02,  8.3121e-03, -6.1334e-02],\n",
       "           [-1.6160e-02,  5.5336e-02, -6.5023e-02],\n",
       "           [-2.4743e-02,  1.0059e-03,  3.2434e-02]],\n",
       " \n",
       "          [[ 1.8496e-08,  5.2798e-09,  4.1819e-08],\n",
       "           [ 3.7489e-08,  2.5450e-08,  3.0419e-08],\n",
       "           [ 1.1246e-08, -5.6956e-09, -2.0007e-08]],\n",
       " \n",
       "          ...,\n",
       " \n",
       "          [[ 7.0829e-03, -4.1063e-02, -1.0009e-02],\n",
       "           [ 2.5900e-02, -6.3815e-02,  1.3370e-02],\n",
       "           [ 2.9738e-02, -7.9417e-03,  1.4008e-02]],\n",
       " \n",
       "          [[-2.5094e-03,  2.2065e-02, -1.9952e-02],\n",
       "           [-5.9428e-02,  4.3887e-02,  2.6846e-02],\n",
       "           [-1.7518e-02,  2.4632e-02,  2.4825e-02]],\n",
       " \n",
       "          [[ 3.5803e-02, -7.0309e-02,  3.9880e-03],\n",
       "           [-2.9820e-02,  9.2767e-02,  1.9354e-02],\n",
       "           [-2.9132e-02, -9.7059e-03, -7.3417e-02]]]], requires_grad=True)]"
      ]
     },
     "execution_count": 8,
     "metadata": {},
     "output_type": "execute_result"
    }
   ],
   "source": [
    "l = learner.model.get_submodule('0.4.0.conv1') # (0): Sequential --> (4): Sequential --> (0): BasicBlock --> (conv1):\n",
    "list(l.parameters())"
   ]
  },
  {
   "cell_type": "markdown",
   "metadata": {},
   "source": [
    "## Fitting a Function to Data\n",
    "\n",
    "We can create a simple quadratic function and use that as an example to model how most neural network functions work.\n",
    "\n",
    "In essence, machine learning models are things that fit functions to data, so we can demonstrate that with something as easy as a quadratic and some random noise data. "
   ]
  },
  {
   "cell_type": "code",
   "execution_count": 9,
   "metadata": {},
   "outputs": [],
   "source": [
    "plt.rc('figure', dpi=90)\n",
    "\n",
    "def plot_function(f, title=None, min=-2.1, max=2.1, color='r', ylim=None):\n",
    "    x = torch.linspace(min,max, 100)[:,None]\n",
    "    if ylim: plt.ylim(ylim)\n",
    "    plt.plot(x, f(x), color)\n",
    "    if title is not None: plt.title(title)"
   ]
  },
  {
   "cell_type": "code",
   "execution_count": 10,
   "metadata": {},
   "outputs": [
    {
     "data": {
      "image/png": "[encoded data removed]",
      "text/plain": [
       "<Figure size 576x432 with 1 Axes>"
      ]
     },
     "metadata": {},
     "output_type": "display_data"
    }
   ],
   "source": [
    "def f(x): return 3*x**2 + 2*x + 1\n",
    "\n",
    "plot_function(f, \"$3x^2 + 2x + 1$\") # $ around a part of a string tells Python to convert to LaTeX"
   ]
  },
  {
   "cell_type": "code",
   "execution_count": 11,
   "metadata": {},
   "outputs": [
    {
     "data": {
      "text/plain": [
       "10.75"
      ]
     },
     "execution_count": 11,
     "metadata": {},
     "output_type": "execute_result"
    }
   ],
   "source": [
    "# We can write a function to make any type of quadratic\n",
    "\n",
    "def quad(a, b, c, x): return a*x**2 + b*x + c\n",
    "\n",
    "quad(3, 2, 1, 1.5)"
   ]
  },
  {
   "cell_type": "code",
   "execution_count": 12,
   "metadata": {},
   "outputs": [
    {
     "data": {
      "text/plain": [
       "10.75"
      ]
     },
     "execution_count": 12,
     "metadata": {},
     "output_type": "execute_result"
    }
   ],
   "source": [
    "# The parameters a, b, c and see can be fixed by using a partial function\n",
    "\n",
    "def mk_quad(a, b, c): return partial(quad, a, b, c)\n",
    "\n",
    "f = mk_quad(3, 2, 1)\n",
    "\n",
    "f(1.5)"
   ]
  },
  {
   "cell_type": "markdown",
   "metadata": {},
   "source": [
    "Just to quickly highlight on the `partial()` function - this is not something I'd seen before and it's pretty cool. \n",
    "\n",
    "The `partial()` function is a **higher order function** (meaning it can take a function as a parameter) which given a function as it's first parameter, lets you add in as many of the next parameters of that function as you'd like. In the example above, we use this to feed in the first three parameters of `quad()`, which are `a`, `b`, `c`. This leaves the `x` parameter left to fill. \n",
    "\n",
    "What's being return by `mk_quad` is a function that requires the final parameter of `quad()`, which is `x`. So, after passing in `x` (in the example above we passed 1.5), the `quad()` function will be executed not that it has all it's parameters."
   ]
  },
  {
   "cell_type": "code",
   "execution_count": 13,
   "metadata": {},
   "outputs": [
    {
     "data": {
      "image/png": "[encoded data removed]",
      "text/plain": [
       "<Figure size 576x432 with 1 Axes>"
      ]
     },
     "metadata": {},
     "output_type": "display_data"
    }
   ],
   "source": [
    "# If we plot f we get the same 3x^2 + 2x + 1 function \n",
    "\n",
    "plot_function(f)"
   ]
  },
  {
   "cell_type": "markdown",
   "metadata": {},
   "source": [
    "It's important to know that in machine learning models, the data is never going to exactly match the neural network (the function) - otherwise we'd have 100% accuracy in all models.\n",
    "\n",
    "To simulate this concentrate in our quadratic example, we can generate some noise data that won't fit our quadratic perfectly well. This will be key in showing how we need to optimize the function parameters to match the data as closely as possible.  "
   ]
  },
  {
   "cell_type": "code",
   "execution_count": 14,
   "metadata": {},
   "outputs": [
    {
     "data": {
      "text/plain": [
       "<matplotlib.collections.PathCollection at 0x7f9f7afb6050>"
      ]
     },
     "execution_count": 14,
     "metadata": {},
     "output_type": "execute_result"
    },
    {
     "data": {
      "image/png": "[encoded data removed]",
      "text/plain": [
       "<Figure size 576x432 with 1 Axes>"
      ]
     },
     "metadata": {},
     "output_type": "display_data"
    }
   ],
   "source": [
    "# Adding noise\n",
    "\n",
    "from numpy.random import normal, seed, uniform\n",
    "np.random.seed(42)\n",
    "def noise(x, scale): return normal(scale=scale, size=x.shape)\n",
    "def add_noise(x, mult, add): return x * (1 + noise(x, mult)) + noise(x, add)\n",
    "\n",
    "x = torch.linspace(-2, 2, steps=20)[:, None]\n",
    "y = add_noise(f(x), 0.3, 1.5)\n",
    "plt.scatter(x, y)"
   ]
  },
  {
   "cell_type": "markdown",
   "metadata": {},
   "source": [
    "Let's examine our original quadratic on top of this scatter plot and play around with the parameters `a`, `b`, `c` a bit to see how changing parameters changes the fit on the data (based on what we can visually see and interpret).\n",
    "\n",
    "Using `@interact()` is helpful in this. If you add it on top of any function in a Jupyter Notebook, it'll run the function and allow you to adjust the parameters through the ipywidget while seeing the changes it makes to the output."
   ]
  },
  {
   "cell_type": "code",
   "execution_count": 15,
   "metadata": {},
   "outputs": [
    {
     "data": {
      "application/vnd.jupyter.widget-view+json": {
       "model_id": "4cfb197e05a64e078b7dec0171de6db5",
       "version_major": 2,
       "version_minor": 0
      },
      "text/plain": [
       "interactive(children=(FloatSlider(value=3.0, description='a', max=9.0, min=-3.0), FloatSlider(value=2.0, descr…"
      ]
     },
     "metadata": {},
     "output_type": "display_data"
    }
   ],
   "source": [
    "from ipywidgets import interact\n",
    "\n",
    "@interact(a=3.0, b=2.0, c=1.0)\n",
    "def plot_quad(a, b, c):\n",
    "    plt.scatter(x,y)\n",
    "    plot_function(mk_quad(a,b,c), ylim=(-3,13))"
   ]
  },
  {
   "cell_type": "markdown",
   "metadata": {},
   "source": [
    "This gives us a good understanding of how we can automate this process of adjusting and finding the curve of best fit for our data. You need to:\n",
    "\n",
    "1. Have a metric to judge whether or not the function is actually fitting better on the data - **loss**\n",
    "2. Make automatic adjustments to the parameter in accordance with the feedback from the parameter \n",
    "\n",
    "We'll implement MSE (mean-squared error) as our **loss** function - the metric that will judge the fit of the function. As it's name suggests, we'll take the delta between our 'prediction' (the y-values of the curve) and the 'actual' (the y-values that are plotted).\n",
    "\n",
    "Of course, because there are multiple y-values, the `preds` and `acts` parameters are NumPy arrays. "
   ]
  },
  {
   "cell_type": "code",
   "execution_count": 16,
   "metadata": {},
   "outputs": [],
   "source": [
    "def mse(preds, acts): return ((preds-acts)**2).mean()"
   ]
  },
  {
   "cell_type": "code",
   "execution_count": 17,
   "metadata": {},
   "outputs": [
    {
     "data": {
      "application/vnd.jupyter.widget-view+json": {
       "model_id": "242a7b10ac8e4585b083d0ddfeca26e4",
       "version_major": 2,
       "version_minor": 0
      },
      "text/plain": [
       "interactive(children=(FloatSlider(value=1.5, description='a', max=4.5, min=-1.5), FloatSlider(value=1.5, descr…"
      ]
     },
     "metadata": {},
     "output_type": "display_data"
    }
   ],
   "source": [
    "@interact(a=1.5, b=1.5, c=1.5)\n",
    "def plot_quad(a, b, c):\n",
    "    f = mk_quad(a, b, c) # Make our f(x) function\n",
    "    plt.scatter(x, y) # Plot the noise data\n",
    "    loss = mse(f(x), y) # Compute the loss\n",
    "    plot_function(f, title=f\"MSE: {loss:.2f}\")"
   ]
  },
  {
   "cell_type": "markdown",
   "metadata": {},
   "source": [
    "Although it may not be visible on the GitHub, the values of my a, b, and c parameters in the first execution (w/o loss function) and the second execution (w/ loss function) were drastically different. This is because after a minor adjust to each of the parameters in the correct direction, I was able to evaluate the impact on the loss and go back and do another small adjustment, and continually repeat that process until I got the smallest loss possible."
   ]
  },
  {
   "cell_type": "markdown",
   "metadata": {},
   "source": []
  }
 ],
 "metadata": {
  "kernelspec": {
   "display_name": "fastai",
   "language": "python",
   "name": "python3"
  },
  "language_info": {
   "codemirror_mode": {
    "name": "ipython",
    "version": 3
   },
   "file_extension": ".py",
   "mimetype": "text/x-python",
   "name": "python",
   "nbconvert_exporter": "python",
   "pygments_lexer": "ipython3",
   "version": "3.11.7"
  }
 },
 "nbformat": 4,
 "nbformat_minor": 2
}
